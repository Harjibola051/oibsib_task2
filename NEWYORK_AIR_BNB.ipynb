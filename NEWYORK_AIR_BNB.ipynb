{
 "cells": [
  {
   "cell_type": "code",
   "execution_count": 1,
   "id": "5ae715ba",
   "metadata": {},
   "outputs": [],
   "source": [
    "import pandas as pd \n",
    "import matplotlib.pyplot as plt \n",
    "import seaborn as sns "
   ]
  },
  {
   "cell_type": "code",
   "execution_count": 2,
   "id": "14444dfe",
   "metadata": {},
   "outputs": [],
   "source": [
    "df = pd.read_csv(\"AB_NYC_2019 CLEANING DATA.csv\")"
   ]
  },
  {
   "cell_type": "markdown",
   "id": "be64e2dd",
   "metadata": {},
   "source": [
    "### 1.DATA INTEGRITY "
   ]
  },
  {
   "cell_type": "code",
   "execution_count": 3,
   "id": "840b5996",
   "metadata": {},
   "outputs": [
    {
     "data": {
      "text/html": [
       "<div>\n",
       "<style scoped>\n",
       "    .dataframe tbody tr th:only-of-type {\n",
       "        vertical-align: middle;\n",
       "    }\n",
       "\n",
       "    .dataframe tbody tr th {\n",
       "        vertical-align: top;\n",
       "    }\n",
       "\n",
       "    .dataframe thead th {\n",
       "        text-align: right;\n",
       "    }\n",
       "</style>\n",
       "<table border=\"1\" class=\"dataframe\">\n",
       "  <thead>\n",
       "    <tr style=\"text-align: right;\">\n",
       "      <th></th>\n",
       "      <th>id</th>\n",
       "      <th>name</th>\n",
       "      <th>host_id</th>\n",
       "      <th>host_name</th>\n",
       "      <th>neighbourhood_group</th>\n",
       "      <th>neighbourhood</th>\n",
       "      <th>latitude</th>\n",
       "      <th>longitude</th>\n",
       "      <th>room_type</th>\n",
       "      <th>price</th>\n",
       "      <th>minimum_nights</th>\n",
       "      <th>number_of_reviews</th>\n",
       "      <th>last_review</th>\n",
       "      <th>reviews_per_month</th>\n",
       "      <th>calculated_host_listings_count</th>\n",
       "      <th>availability_365</th>\n",
       "    </tr>\n",
       "  </thead>\n",
       "  <tbody>\n",
       "    <tr>\n",
       "      <th>0</th>\n",
       "      <td>2539</td>\n",
       "      <td>Clean &amp; quiet apt home by the park</td>\n",
       "      <td>2787</td>\n",
       "      <td>John</td>\n",
       "      <td>Brooklyn</td>\n",
       "      <td>Kensington</td>\n",
       "      <td>40.64749</td>\n",
       "      <td>-73.97237</td>\n",
       "      <td>Private room</td>\n",
       "      <td>149</td>\n",
       "      <td>1</td>\n",
       "      <td>9</td>\n",
       "      <td>2018-10-19</td>\n",
       "      <td>0.21</td>\n",
       "      <td>6</td>\n",
       "      <td>365</td>\n",
       "    </tr>\n",
       "    <tr>\n",
       "      <th>1</th>\n",
       "      <td>2595</td>\n",
       "      <td>Skylit Midtown Castle</td>\n",
       "      <td>2845</td>\n",
       "      <td>Jennifer</td>\n",
       "      <td>Manhattan</td>\n",
       "      <td>Midtown</td>\n",
       "      <td>40.75362</td>\n",
       "      <td>-73.98377</td>\n",
       "      <td>Entire home/apt</td>\n",
       "      <td>225</td>\n",
       "      <td>1</td>\n",
       "      <td>45</td>\n",
       "      <td>2019-05-21</td>\n",
       "      <td>0.38</td>\n",
       "      <td>2</td>\n",
       "      <td>355</td>\n",
       "    </tr>\n",
       "    <tr>\n",
       "      <th>2</th>\n",
       "      <td>3647</td>\n",
       "      <td>THE VILLAGE OF HARLEM....NEW YORK !</td>\n",
       "      <td>4632</td>\n",
       "      <td>Elisabeth</td>\n",
       "      <td>Manhattan</td>\n",
       "      <td>Harlem</td>\n",
       "      <td>40.80902</td>\n",
       "      <td>-73.94190</td>\n",
       "      <td>Private room</td>\n",
       "      <td>150</td>\n",
       "      <td>3</td>\n",
       "      <td>0</td>\n",
       "      <td>NaN</td>\n",
       "      <td>NaN</td>\n",
       "      <td>1</td>\n",
       "      <td>365</td>\n",
       "    </tr>\n",
       "    <tr>\n",
       "      <th>3</th>\n",
       "      <td>3831</td>\n",
       "      <td>Cozy Entire Floor of Brownstone</td>\n",
       "      <td>4869</td>\n",
       "      <td>LisaRoxanne</td>\n",
       "      <td>Brooklyn</td>\n",
       "      <td>Clinton Hill</td>\n",
       "      <td>40.68514</td>\n",
       "      <td>-73.95976</td>\n",
       "      <td>Entire home/apt</td>\n",
       "      <td>89</td>\n",
       "      <td>1</td>\n",
       "      <td>270</td>\n",
       "      <td>2019-07-05</td>\n",
       "      <td>4.64</td>\n",
       "      <td>1</td>\n",
       "      <td>194</td>\n",
       "    </tr>\n",
       "    <tr>\n",
       "      <th>4</th>\n",
       "      <td>5022</td>\n",
       "      <td>Entire Apt: Spacious Studio/Loft by central park</td>\n",
       "      <td>7192</td>\n",
       "      <td>Laura</td>\n",
       "      <td>Manhattan</td>\n",
       "      <td>East Harlem</td>\n",
       "      <td>40.79851</td>\n",
       "      <td>-73.94399</td>\n",
       "      <td>Entire home/apt</td>\n",
       "      <td>80</td>\n",
       "      <td>10</td>\n",
       "      <td>9</td>\n",
       "      <td>2018-11-19</td>\n",
       "      <td>0.10</td>\n",
       "      <td>1</td>\n",
       "      <td>0</td>\n",
       "    </tr>\n",
       "  </tbody>\n",
       "</table>\n",
       "</div>"
      ],
      "text/plain": [
       "     id                                              name  host_id  \\\n",
       "0  2539                Clean & quiet apt home by the park     2787   \n",
       "1  2595                             Skylit Midtown Castle     2845   \n",
       "2  3647               THE VILLAGE OF HARLEM....NEW YORK !     4632   \n",
       "3  3831                   Cozy Entire Floor of Brownstone     4869   \n",
       "4  5022  Entire Apt: Spacious Studio/Loft by central park     7192   \n",
       "\n",
       "     host_name neighbourhood_group neighbourhood  latitude  longitude  \\\n",
       "0         John            Brooklyn    Kensington  40.64749  -73.97237   \n",
       "1     Jennifer           Manhattan       Midtown  40.75362  -73.98377   \n",
       "2    Elisabeth           Manhattan        Harlem  40.80902  -73.94190   \n",
       "3  LisaRoxanne            Brooklyn  Clinton Hill  40.68514  -73.95976   \n",
       "4        Laura           Manhattan   East Harlem  40.79851  -73.94399   \n",
       "\n",
       "         room_type  price  minimum_nights  number_of_reviews last_review  \\\n",
       "0     Private room    149               1                  9  2018-10-19   \n",
       "1  Entire home/apt    225               1                 45  2019-05-21   \n",
       "2     Private room    150               3                  0         NaN   \n",
       "3  Entire home/apt     89               1                270  2019-07-05   \n",
       "4  Entire home/apt     80              10                  9  2018-11-19   \n",
       "\n",
       "   reviews_per_month  calculated_host_listings_count  availability_365  \n",
       "0               0.21                               6               365  \n",
       "1               0.38                               2               355  \n",
       "2                NaN                               1               365  \n",
       "3               4.64                               1               194  \n",
       "4               0.10                               1                 0  "
      ]
     },
     "execution_count": 3,
     "metadata": {},
     "output_type": "execute_result"
    }
   ],
   "source": [
    "df.head()"
   ]
  },
  {
   "cell_type": "markdown",
   "id": "fe33b7eb",
   "metadata": {},
   "source": [
    "The dataset consist of 48895 entries with 16 columns. "
   ]
  },
  {
   "cell_type": "raw",
   "id": "28cbb112",
   "metadata": {},
   "source": [
    " The column \"name\", \"host_name\", \"last_review\", \"reviews_per_month\" has 16, 21, 10052 and 10052 null values respectively. "
   ]
  },
  {
   "cell_type": "code",
   "execution_count": 4,
   "id": "c943452c",
   "metadata": {},
   "outputs": [
    {
     "name": "stdout",
     "output_type": "stream",
     "text": [
      "<class 'pandas.core.frame.DataFrame'>\n",
      "RangeIndex: 48895 entries, 0 to 48894\n",
      "Data columns (total 16 columns):\n",
      " #   Column                          Non-Null Count  Dtype  \n",
      "---  ------                          --------------  -----  \n",
      " 0   id                              48895 non-null  int64  \n",
      " 1   name                            48879 non-null  object \n",
      " 2   host_id                         48895 non-null  int64  \n",
      " 3   host_name                       48874 non-null  object \n",
      " 4   neighbourhood_group             48895 non-null  object \n",
      " 5   neighbourhood                   48895 non-null  object \n",
      " 6   latitude                        48895 non-null  float64\n",
      " 7   longitude                       48895 non-null  float64\n",
      " 8   room_type                       48895 non-null  object \n",
      " 9   price                           48895 non-null  int64  \n",
      " 10  minimum_nights                  48895 non-null  int64  \n",
      " 11  number_of_reviews               48895 non-null  int64  \n",
      " 12  last_review                     38843 non-null  object \n",
      " 13  reviews_per_month               38843 non-null  float64\n",
      " 14  calculated_host_listings_count  48895 non-null  int64  \n",
      " 15  availability_365                48895 non-null  int64  \n",
      "dtypes: float64(3), int64(7), object(6)\n",
      "memory usage: 6.0+ MB\n"
     ]
    }
   ],
   "source": [
    "df.info()"
   ]
  },
  {
   "cell_type": "raw",
   "id": "8c08c225",
   "metadata": {},
   "source": [
    "The data types contained in this dataset are mixtures of integers, float and object/strings. "
   ]
  },
  {
   "cell_type": "markdown",
   "id": "fdf32b1a",
   "metadata": {},
   "source": [
    "###### UNIQUE VALUES CONTAINED IN THE DATASET "
   ]
  },
  {
   "cell_type": "code",
   "execution_count": 5,
   "id": "3f0fab82",
   "metadata": {},
   "outputs": [
    {
     "name": "stdout",
     "output_type": "stream",
     "text": [
      "Column: id\n",
      "Unique Values (48895): [2539 2595 3647 3831 5022]...\n",
      "--------------------------------------------------\n",
      "Column: name\n",
      "Unique Values (47906): ['Clean & quiet apt home by the park' 'Skylit Midtown Castle'\n",
      " 'THE VILLAGE OF HARLEM....NEW YORK !' 'Cozy Entire Floor of Brownstone'\n",
      " 'Entire Apt: Spacious Studio/Loft by central park']...\n",
      "--------------------------------------------------\n",
      "Column: host_id\n",
      "Unique Values (37457): [2787 2845 4632 4869 7192]...\n",
      "--------------------------------------------------\n",
      "Column: host_name\n",
      "Unique Values (11453): ['John' 'Jennifer' 'Elisabeth' 'LisaRoxanne' 'Laura']...\n",
      "--------------------------------------------------\n",
      "Column: neighbourhood_group\n",
      "Unique Values (5): ['Brooklyn' 'Manhattan' 'Queens' 'Staten Island' 'Bronx']...\n",
      "--------------------------------------------------\n",
      "Column: neighbourhood\n",
      "Unique Values (221): ['Kensington' 'Midtown' 'Harlem' 'Clinton Hill' 'East Harlem']...\n",
      "--------------------------------------------------\n",
      "Column: latitude\n",
      "Unique Values (19048): [40.64749 40.75362 40.80902 40.68514 40.79851]...\n",
      "--------------------------------------------------\n",
      "Column: longitude\n",
      "Unique Values (14718): [-73.97237 -73.98377 -73.9419  -73.95976 -73.94399]...\n",
      "--------------------------------------------------\n",
      "Column: room_type\n",
      "Unique Values (3): ['Private room' 'Entire home/apt' 'Shared room']...\n",
      "--------------------------------------------------\n",
      "Column: price\n",
      "Unique Values (674): [149 225 150  89  80]...\n",
      "--------------------------------------------------\n",
      "Column: minimum_nights\n",
      "Unique Values (109): [ 1  3 10 45  2]...\n",
      "--------------------------------------------------\n",
      "Column: number_of_reviews\n",
      "Unique Values (394): [  9  45   0 270  74]...\n",
      "--------------------------------------------------\n",
      "Column: last_review\n",
      "Unique Values (1765): ['2018-10-19' '2019-05-21' nan '2019-07-05' '2018-11-19']...\n",
      "--------------------------------------------------\n",
      "Column: reviews_per_month\n",
      "Unique Values (938): [0.21 0.38  nan 4.64 0.1 ]...\n",
      "--------------------------------------------------\n",
      "Column: calculated_host_listings_count\n",
      "Unique Values (47): [6 2 1 4 3]...\n",
      "--------------------------------------------------\n",
      "Column: availability_365\n",
      "Unique Values (366): [365 355 194   0 129]...\n",
      "--------------------------------------------------\n"
     ]
    }
   ],
   "source": [
    "# Iterate over each column and print unique values\n",
    "for column in df.columns:\n",
    "    unique_values = df[column].unique()\n",
    "    print(f\"Column: {column}\")\n",
    "    print(f\"Unique Values ({len(unique_values)}): {unique_values[:5]}...\") \n",
    "    print(\"-\" * 50)\n"
   ]
  },
  {
   "cell_type": "markdown",
   "id": "59cb6134",
   "metadata": {},
   "source": [
    "### 2. HANDLING MISSING VALUES "
   ]
  },
  {
   "cell_type": "code",
   "execution_count": 6,
   "id": "0db75400",
   "metadata": {},
   "outputs": [
    {
     "data": {
      "text/plain": [
       "id                                    0\n",
       "name                                 16\n",
       "host_id                               0\n",
       "host_name                            21\n",
       "neighbourhood_group                   0\n",
       "neighbourhood                         0\n",
       "latitude                              0\n",
       "longitude                             0\n",
       "room_type                             0\n",
       "price                                 0\n",
       "minimum_nights                        0\n",
       "number_of_reviews                     0\n",
       "last_review                       10052\n",
       "reviews_per_month                 10052\n",
       "calculated_host_listings_count        0\n",
       "availability_365                      0\n",
       "dtype: int64"
      ]
     },
     "execution_count": 6,
     "metadata": {},
     "output_type": "execute_result"
    }
   ],
   "source": [
    "df.isnull().sum()"
   ]
  },
  {
   "cell_type": "raw",
   "id": "bc2e8a45",
   "metadata": {},
   "source": [
    "since the last_review and reviews_per_month null values are much but cant be neglected, lets remove the null values. "
   ]
  },
  {
   "cell_type": "code",
   "execution_count": 7,
   "id": "4f215be1",
   "metadata": {},
   "outputs": [
    {
     "name": "stdout",
     "output_type": "stream",
     "text": [
      "0\n"
     ]
    }
   ],
   "source": [
    "#df[\"last_review\"] = pd.to_datetime(df[\"last_review\"], errors=\"coerce\")\n",
    "\n",
    "\n",
    "df['last_review'].fillna(\"no_ review\", inplace=True)\n",
    "\n",
    "# Verify the change\n",
    "print(df['last_review'].isnull().sum()) "
   ]
  },
  {
   "cell_type": "code",
   "execution_count": 8,
   "id": "008163b8",
   "metadata": {},
   "outputs": [],
   "source": [
    "#fill the two columns with missing values with unknow and no reviews\n",
    "df[\"name\"] = df[\"name\"].fillna(\"Unknown\")\n",
    "df[\"host_name\"] = df[\"host_name\"].fillna(\"not_avaialable\")\n"
   ]
  },
  {
   "cell_type": "code",
   "execution_count": 9,
   "id": "aa2e4965",
   "metadata": {},
   "outputs": [],
   "source": [
    "df[\"reviews_per_month\"] = df[\"reviews_per_month\"].fillna(df[\"reviews_per_month\"].median())"
   ]
  },
  {
   "cell_type": "code",
   "execution_count": 10,
   "id": "76733687",
   "metadata": {},
   "outputs": [
    {
     "name": "stdout",
     "output_type": "stream",
     "text": [
      "id                                  int64\n",
      "name                               object\n",
      "host_id                             int64\n",
      "host_name                          object\n",
      "neighbourhood_group                object\n",
      "neighbourhood                      object\n",
      "latitude                          float64\n",
      "longitude                         float64\n",
      "room_type                          object\n",
      "price                               int64\n",
      "minimum_nights                      int64\n",
      "number_of_reviews                   int64\n",
      "last_review                        object\n",
      "reviews_per_month                 float64\n",
      "calculated_host_listings_count      int64\n",
      "availability_365                    int64\n",
      "dtype: object\n"
     ]
    }
   ],
   "source": [
    "print(df.dtypes)  # Ensure last_review is datetime64[ns]\n"
   ]
  },
  {
   "cell_type": "code",
   "execution_count": 11,
   "id": "b767b606",
   "metadata": {},
   "outputs": [
    {
     "data": {
      "text/html": [
       "<div>\n",
       "<style scoped>\n",
       "    .dataframe tbody tr th:only-of-type {\n",
       "        vertical-align: middle;\n",
       "    }\n",
       "\n",
       "    .dataframe tbody tr th {\n",
       "        vertical-align: top;\n",
       "    }\n",
       "\n",
       "    .dataframe thead th {\n",
       "        text-align: right;\n",
       "    }\n",
       "</style>\n",
       "<table border=\"1\" class=\"dataframe\">\n",
       "  <thead>\n",
       "    <tr style=\"text-align: right;\">\n",
       "      <th></th>\n",
       "      <th>id</th>\n",
       "      <th>host_id</th>\n",
       "      <th>latitude</th>\n",
       "      <th>longitude</th>\n",
       "      <th>price</th>\n",
       "      <th>minimum_nights</th>\n",
       "      <th>number_of_reviews</th>\n",
       "      <th>reviews_per_month</th>\n",
       "      <th>calculated_host_listings_count</th>\n",
       "      <th>availability_365</th>\n",
       "    </tr>\n",
       "  </thead>\n",
       "  <tbody>\n",
       "    <tr>\n",
       "      <th>count</th>\n",
       "      <td>4.889500e+04</td>\n",
       "      <td>4.889500e+04</td>\n",
       "      <td>48895.000000</td>\n",
       "      <td>48895.000000</td>\n",
       "      <td>48895.000000</td>\n",
       "      <td>48895.000000</td>\n",
       "      <td>48895.000000</td>\n",
       "      <td>48895.000000</td>\n",
       "      <td>48895.000000</td>\n",
       "      <td>48895.000000</td>\n",
       "    </tr>\n",
       "    <tr>\n",
       "      <th>mean</th>\n",
       "      <td>1.901714e+07</td>\n",
       "      <td>6.762001e+07</td>\n",
       "      <td>40.728949</td>\n",
       "      <td>-73.952170</td>\n",
       "      <td>152.720687</td>\n",
       "      <td>7.029962</td>\n",
       "      <td>23.274466</td>\n",
       "      <td>1.238930</td>\n",
       "      <td>7.143982</td>\n",
       "      <td>112.781327</td>\n",
       "    </tr>\n",
       "    <tr>\n",
       "      <th>std</th>\n",
       "      <td>1.098311e+07</td>\n",
       "      <td>7.861097e+07</td>\n",
       "      <td>0.054530</td>\n",
       "      <td>0.046157</td>\n",
       "      <td>240.154170</td>\n",
       "      <td>20.510550</td>\n",
       "      <td>44.550582</td>\n",
       "      <td>1.520861</td>\n",
       "      <td>32.952519</td>\n",
       "      <td>131.622289</td>\n",
       "    </tr>\n",
       "    <tr>\n",
       "      <th>min</th>\n",
       "      <td>2.539000e+03</td>\n",
       "      <td>2.438000e+03</td>\n",
       "      <td>40.499790</td>\n",
       "      <td>-74.244420</td>\n",
       "      <td>0.000000</td>\n",
       "      <td>1.000000</td>\n",
       "      <td>0.000000</td>\n",
       "      <td>0.010000</td>\n",
       "      <td>1.000000</td>\n",
       "      <td>0.000000</td>\n",
       "    </tr>\n",
       "    <tr>\n",
       "      <th>25%</th>\n",
       "      <td>9.471945e+06</td>\n",
       "      <td>7.822033e+06</td>\n",
       "      <td>40.690100</td>\n",
       "      <td>-73.983070</td>\n",
       "      <td>69.000000</td>\n",
       "      <td>1.000000</td>\n",
       "      <td>1.000000</td>\n",
       "      <td>0.280000</td>\n",
       "      <td>1.000000</td>\n",
       "      <td>0.000000</td>\n",
       "    </tr>\n",
       "    <tr>\n",
       "      <th>50%</th>\n",
       "      <td>1.967728e+07</td>\n",
       "      <td>3.079382e+07</td>\n",
       "      <td>40.723070</td>\n",
       "      <td>-73.955680</td>\n",
       "      <td>106.000000</td>\n",
       "      <td>3.000000</td>\n",
       "      <td>5.000000</td>\n",
       "      <td>0.720000</td>\n",
       "      <td>1.000000</td>\n",
       "      <td>45.000000</td>\n",
       "    </tr>\n",
       "    <tr>\n",
       "      <th>75%</th>\n",
       "      <td>2.915218e+07</td>\n",
       "      <td>1.074344e+08</td>\n",
       "      <td>40.763115</td>\n",
       "      <td>-73.936275</td>\n",
       "      <td>175.000000</td>\n",
       "      <td>5.000000</td>\n",
       "      <td>24.000000</td>\n",
       "      <td>1.580000</td>\n",
       "      <td>2.000000</td>\n",
       "      <td>227.000000</td>\n",
       "    </tr>\n",
       "    <tr>\n",
       "      <th>max</th>\n",
       "      <td>3.648724e+07</td>\n",
       "      <td>2.743213e+08</td>\n",
       "      <td>40.913060</td>\n",
       "      <td>-73.712990</td>\n",
       "      <td>10000.000000</td>\n",
       "      <td>1250.000000</td>\n",
       "      <td>629.000000</td>\n",
       "      <td>58.500000</td>\n",
       "      <td>327.000000</td>\n",
       "      <td>365.000000</td>\n",
       "    </tr>\n",
       "  </tbody>\n",
       "</table>\n",
       "</div>"
      ],
      "text/plain": [
       "                 id       host_id      latitude     longitude         price  \\\n",
       "count  4.889500e+04  4.889500e+04  48895.000000  48895.000000  48895.000000   \n",
       "mean   1.901714e+07  6.762001e+07     40.728949    -73.952170    152.720687   \n",
       "std    1.098311e+07  7.861097e+07      0.054530      0.046157    240.154170   \n",
       "min    2.539000e+03  2.438000e+03     40.499790    -74.244420      0.000000   \n",
       "25%    9.471945e+06  7.822033e+06     40.690100    -73.983070     69.000000   \n",
       "50%    1.967728e+07  3.079382e+07     40.723070    -73.955680    106.000000   \n",
       "75%    2.915218e+07  1.074344e+08     40.763115    -73.936275    175.000000   \n",
       "max    3.648724e+07  2.743213e+08     40.913060    -73.712990  10000.000000   \n",
       "\n",
       "       minimum_nights  number_of_reviews  reviews_per_month  \\\n",
       "count    48895.000000       48895.000000       48895.000000   \n",
       "mean         7.029962          23.274466           1.238930   \n",
       "std         20.510550          44.550582           1.520861   \n",
       "min          1.000000           0.000000           0.010000   \n",
       "25%          1.000000           1.000000           0.280000   \n",
       "50%          3.000000           5.000000           0.720000   \n",
       "75%          5.000000          24.000000           1.580000   \n",
       "max       1250.000000         629.000000          58.500000   \n",
       "\n",
       "       calculated_host_listings_count  availability_365  \n",
       "count                    48895.000000      48895.000000  \n",
       "mean                         7.143982        112.781327  \n",
       "std                         32.952519        131.622289  \n",
       "min                          1.000000          0.000000  \n",
       "25%                          1.000000          0.000000  \n",
       "50%                          1.000000         45.000000  \n",
       "75%                          2.000000        227.000000  \n",
       "max                        327.000000        365.000000  "
      ]
     },
     "execution_count": 11,
     "metadata": {},
     "output_type": "execute_result"
    }
   ],
   "source": [
    "df.describe()"
   ]
  },
  {
   "cell_type": "markdown",
   "id": "7172fcb6",
   "metadata": {},
   "source": [
    "##### The following are to futher verify if the null values have been  correctly removed. "
   ]
  },
  {
   "cell_type": "code",
   "execution_count": 12,
   "id": "963b59bf",
   "metadata": {},
   "outputs": [],
   "source": [
    "# After removing the rows with null values in all columns, we defined a new name to our dataset. (df). \n",
    "# This is what we will be using to solve outliers. "
   ]
  },
  {
   "cell_type": "markdown",
   "id": "8d35e655",
   "metadata": {},
   "source": [
    "### 3. CHECK FOR DUPLICATES"
   ]
  },
  {
   "cell_type": "code",
   "execution_count": 13,
   "id": "39cb5ae3",
   "metadata": {},
   "outputs": [
    {
     "name": "stdout",
     "output_type": "stream",
     "text": [
      "Number of duplicate rows: 0\n"
     ]
    }
   ],
   "source": [
    "# Check for duplicate rows\n",
    "duplicates = df[df.duplicated()]\n",
    "\n",
    "print(f\"Number of duplicate rows: {duplicates.shape[0]}\")\n"
   ]
  },
  {
   "cell_type": "markdown",
   "id": "041e5a94",
   "metadata": {},
   "source": [
    "There are no duplicates found in the dataset \n"
   ]
  },
  {
   "cell_type": "code",
   "execution_count": 14,
   "id": "83bbbece",
   "metadata": {},
   "outputs": [
    {
     "name": "stdout",
     "output_type": "stream",
     "text": [
      "Original dataset size: 48895 rows\n"
     ]
    }
   ],
   "source": [
    "print(f\"Original dataset size: {df.shape[0]} rows\")\n"
   ]
  },
  {
   "cell_type": "code",
   "execution_count": null,
   "id": "b0cbe951",
   "metadata": {},
   "outputs": [],
   "source": []
  },
  {
   "cell_type": "markdown",
   "id": "1bd765e0",
   "metadata": {},
   "source": [
    "### 4. OUTLIER DETECTION / REMOVAL"
   ]
  },
  {
   "cell_type": "code",
   "execution_count": 15,
   "id": "19a4be70",
   "metadata": {},
   "outputs": [],
   "source": [
    "# The simple method to check for outlier is through the df.describe(), \n",
    "#from which we can calculate or know the columns with much outlier\n",
    "#by comparing extreme min/max values to the 75th percentile.\n",
    "\n",
    "#The skew method can also be used to check for columns with outliers.  \n",
    "#This method is only applicable to numerical columns. \n",
    "\n",
    "\n",
    "\n",
    "# To basicallydetect and delete  outlier, we will use the following method:   z-score, IQR, percentile method.   \n",
    "# Boxplots & Histograms for visualization and exploratory analysis.\n"
   ]
  },
  {
   "cell_type": "code",
   "execution_count": 16,
   "id": "5d0780ee",
   "metadata": {},
   "outputs": [
    {
     "data": {
      "text/html": [
       "<div>\n",
       "<style scoped>\n",
       "    .dataframe tbody tr th:only-of-type {\n",
       "        vertical-align: middle;\n",
       "    }\n",
       "\n",
       "    .dataframe tbody tr th {\n",
       "        vertical-align: top;\n",
       "    }\n",
       "\n",
       "    .dataframe thead th {\n",
       "        text-align: right;\n",
       "    }\n",
       "</style>\n",
       "<table border=\"1\" class=\"dataframe\">\n",
       "  <thead>\n",
       "    <tr style=\"text-align: right;\">\n",
       "      <th></th>\n",
       "      <th>id</th>\n",
       "      <th>host_id</th>\n",
       "      <th>latitude</th>\n",
       "      <th>longitude</th>\n",
       "      <th>price</th>\n",
       "      <th>minimum_nights</th>\n",
       "      <th>number_of_reviews</th>\n",
       "      <th>reviews_per_month</th>\n",
       "      <th>calculated_host_listings_count</th>\n",
       "      <th>availability_365</th>\n",
       "    </tr>\n",
       "  </thead>\n",
       "  <tbody>\n",
       "    <tr>\n",
       "      <th>count</th>\n",
       "      <td>4.889500e+04</td>\n",
       "      <td>4.889500e+04</td>\n",
       "      <td>48895.000000</td>\n",
       "      <td>48895.000000</td>\n",
       "      <td>48895.000000</td>\n",
       "      <td>48895.000000</td>\n",
       "      <td>48895.000000</td>\n",
       "      <td>48895.000000</td>\n",
       "      <td>48895.000000</td>\n",
       "      <td>48895.000000</td>\n",
       "    </tr>\n",
       "    <tr>\n",
       "      <th>mean</th>\n",
       "      <td>1.901714e+07</td>\n",
       "      <td>6.762001e+07</td>\n",
       "      <td>40.728949</td>\n",
       "      <td>-73.952170</td>\n",
       "      <td>152.720687</td>\n",
       "      <td>7.029962</td>\n",
       "      <td>23.274466</td>\n",
       "      <td>1.238930</td>\n",
       "      <td>7.143982</td>\n",
       "      <td>112.781327</td>\n",
       "    </tr>\n",
       "    <tr>\n",
       "      <th>std</th>\n",
       "      <td>1.098311e+07</td>\n",
       "      <td>7.861097e+07</td>\n",
       "      <td>0.054530</td>\n",
       "      <td>0.046157</td>\n",
       "      <td>240.154170</td>\n",
       "      <td>20.510550</td>\n",
       "      <td>44.550582</td>\n",
       "      <td>1.520861</td>\n",
       "      <td>32.952519</td>\n",
       "      <td>131.622289</td>\n",
       "    </tr>\n",
       "    <tr>\n",
       "      <th>min</th>\n",
       "      <td>2.539000e+03</td>\n",
       "      <td>2.438000e+03</td>\n",
       "      <td>40.499790</td>\n",
       "      <td>-74.244420</td>\n",
       "      <td>0.000000</td>\n",
       "      <td>1.000000</td>\n",
       "      <td>0.000000</td>\n",
       "      <td>0.010000</td>\n",
       "      <td>1.000000</td>\n",
       "      <td>0.000000</td>\n",
       "    </tr>\n",
       "    <tr>\n",
       "      <th>25%</th>\n",
       "      <td>9.471945e+06</td>\n",
       "      <td>7.822033e+06</td>\n",
       "      <td>40.690100</td>\n",
       "      <td>-73.983070</td>\n",
       "      <td>69.000000</td>\n",
       "      <td>1.000000</td>\n",
       "      <td>1.000000</td>\n",
       "      <td>0.280000</td>\n",
       "      <td>1.000000</td>\n",
       "      <td>0.000000</td>\n",
       "    </tr>\n",
       "    <tr>\n",
       "      <th>50%</th>\n",
       "      <td>1.967728e+07</td>\n",
       "      <td>3.079382e+07</td>\n",
       "      <td>40.723070</td>\n",
       "      <td>-73.955680</td>\n",
       "      <td>106.000000</td>\n",
       "      <td>3.000000</td>\n",
       "      <td>5.000000</td>\n",
       "      <td>0.720000</td>\n",
       "      <td>1.000000</td>\n",
       "      <td>45.000000</td>\n",
       "    </tr>\n",
       "    <tr>\n",
       "      <th>75%</th>\n",
       "      <td>2.915218e+07</td>\n",
       "      <td>1.074344e+08</td>\n",
       "      <td>40.763115</td>\n",
       "      <td>-73.936275</td>\n",
       "      <td>175.000000</td>\n",
       "      <td>5.000000</td>\n",
       "      <td>24.000000</td>\n",
       "      <td>1.580000</td>\n",
       "      <td>2.000000</td>\n",
       "      <td>227.000000</td>\n",
       "    </tr>\n",
       "    <tr>\n",
       "      <th>max</th>\n",
       "      <td>3.648724e+07</td>\n",
       "      <td>2.743213e+08</td>\n",
       "      <td>40.913060</td>\n",
       "      <td>-73.712990</td>\n",
       "      <td>10000.000000</td>\n",
       "      <td>1250.000000</td>\n",
       "      <td>629.000000</td>\n",
       "      <td>58.500000</td>\n",
       "      <td>327.000000</td>\n",
       "      <td>365.000000</td>\n",
       "    </tr>\n",
       "  </tbody>\n",
       "</table>\n",
       "</div>"
      ],
      "text/plain": [
       "                 id       host_id      latitude     longitude         price  \\\n",
       "count  4.889500e+04  4.889500e+04  48895.000000  48895.000000  48895.000000   \n",
       "mean   1.901714e+07  6.762001e+07     40.728949    -73.952170    152.720687   \n",
       "std    1.098311e+07  7.861097e+07      0.054530      0.046157    240.154170   \n",
       "min    2.539000e+03  2.438000e+03     40.499790    -74.244420      0.000000   \n",
       "25%    9.471945e+06  7.822033e+06     40.690100    -73.983070     69.000000   \n",
       "50%    1.967728e+07  3.079382e+07     40.723070    -73.955680    106.000000   \n",
       "75%    2.915218e+07  1.074344e+08     40.763115    -73.936275    175.000000   \n",
       "max    3.648724e+07  2.743213e+08     40.913060    -73.712990  10000.000000   \n",
       "\n",
       "       minimum_nights  number_of_reviews  reviews_per_month  \\\n",
       "count    48895.000000       48895.000000       48895.000000   \n",
       "mean         7.029962          23.274466           1.238930   \n",
       "std         20.510550          44.550582           1.520861   \n",
       "min          1.000000           0.000000           0.010000   \n",
       "25%          1.000000           1.000000           0.280000   \n",
       "50%          3.000000           5.000000           0.720000   \n",
       "75%          5.000000          24.000000           1.580000   \n",
       "max       1250.000000         629.000000          58.500000   \n",
       "\n",
       "       calculated_host_listings_count  availability_365  \n",
       "count                    48895.000000      48895.000000  \n",
       "mean                         7.143982        112.781327  \n",
       "std                         32.952519        131.622289  \n",
       "min                          1.000000          0.000000  \n",
       "25%                          1.000000          0.000000  \n",
       "50%                          1.000000         45.000000  \n",
       "75%                          2.000000        227.000000  \n",
       "max                        327.000000        365.000000  "
      ]
     },
     "execution_count": 16,
     "metadata": {},
     "output_type": "execute_result"
    }
   ],
   "source": [
    "df.describe()"
   ]
  },
  {
   "cell_type": "markdown",
   "id": "9ba03bd1",
   "metadata": {},
   "source": [
    "##### WE APPLY SKEW TO SEE COLUMNS WITH EXTREEME VALUES/ OUTLIERS. "
   ]
  },
  {
   "cell_type": "code",
   "execution_count": 17,
   "id": "0f08c450",
   "metadata": {},
   "outputs": [],
   "source": [
    "# Identify numerical columns\n",
    "numerical_cols = df.select_dtypes(include=['number']).columns\n"
   ]
  },
  {
   "cell_type": "code",
   "execution_count": 18,
   "id": "7e07f96b",
   "metadata": {},
   "outputs": [
    {
     "name": "stdout",
     "output_type": "stream",
     "text": [
      "id                                -0.090257\n",
      "host_id                            1.206214\n",
      "latitude                           0.237167\n",
      "longitude                          1.284210\n",
      "price                             19.118939\n",
      "minimum_nights                    21.827275\n",
      "number_of_reviews                  3.690635\n",
      "reviews_per_month                  3.603699\n",
      "calculated_host_listings_count     7.933174\n",
      "availability_365                   0.763408\n",
      "dtype: float64\n"
     ]
    }
   ],
   "source": [
    "#  skew data \n",
    "print(df[numerical_cols].skew())"
   ]
  },
  {
   "cell_type": "code",
   "execution_count": 19,
   "id": "0dec3006",
   "metadata": {},
   "outputs": [
    {
     "data": {
      "image/png": "[encoded data removed]",
      "text/plain": [
       "<Figure size 1200x800 with 5 Axes>"
      ]
     },
     "metadata": {},
     "output_type": "display_data"
    }
   ],
   "source": [
    "import seaborn as sns\n",
    "import matplotlib.pyplot as plt\n",
    "\n",
    "# List of numerical columns (ensure these are the columns you're analyzing)\n",
    "numerical_cols = ['price', 'minimum_nights', 'number_of_reviews', \n",
    "                  'reviews_per_month', 'calculated_host_listings_count']\n",
    "\n",
    "# Create boxplots for each numerical column\n",
    "plt.figure(figsize=(12, 8))  # Set the figure size\n",
    "for i, col in enumerate(numerical_cols, 1):\n",
    "    plt.subplot(2, 3, i)  # Create a grid of subplots (2 rows, 3 columns)\n",
    "    sns.boxplot(data=df, x=col)  # Plot the boxplot\n",
    "    plt.title(f'Boxplot of {col}')  # Title for each subplot\n",
    "\n",
    "plt.tight_layout()  # Adjust the layout to prevent overlap\n",
    "plt.show()\n"
   ]
  },
  {
   "cell_type": "code",
   "execution_count": null,
   "id": "79e3ec37",
   "metadata": {},
   "outputs": [],
   "source": []
  },
  {
   "cell_type": "raw",
   "id": "9117dd91",
   "metadata": {},
   "source": [
    "how we measure skewness \n",
    "\n",
    "Skewness = 0:  Data is perfectly symmetric (normal distribution).\n",
    "Skewness > 0:  Data is right-skewed (long tail on the right, high-value outliers).\n",
    "Skewness < 0:  Data is left-skewed (long tail on the left, low-value outliers).\n",
    "Skewness > 2:  Data is highly skewed, suggesting extreme outliers.\n",
    "\n",
    "\n",
    "In this case, host_id, id, availability_365, latitude, longitude have limited or few outliers comapred to price (23.673594),minimum_nights (27.542187), number_of_reviews (3.690635), reviews_per_month (3.300723),  calculated_host_listings_count (7.933174)"
   ]
  },
  {
   "cell_type": "markdown",
   "id": "b55c127c",
   "metadata": {},
   "source": [
    "##### OUTLIER DETECTION AND REMOVAL FOR PRICE COLUMN"
   ]
  },
  {
   "cell_type": "code",
   "execution_count": 20,
   "id": "b549cdcb",
   "metadata": {},
   "outputs": [
    {
     "name": "stderr",
     "output_type": "stream",
     "text": [
      "C:\\Users\\Hammed\\AppData\\Local\\Temp\\ipykernel_14308\\1983343519.py:3: UserWarning: \n",
      "\n",
      "`distplot` is a deprecated function and will be removed in seaborn v0.14.0.\n",
      "\n",
      "Please adapt your code to use either `displot` (a figure-level function with\n",
      "similar flexibility) or `histplot` (an axes-level function for histograms).\n",
      "\n",
      "For a guide to updating your code to use the new functions, please see\n",
      "https://gist.github.com/mwaskom/de44147ed2974457ad6372750bbe5751\n",
      "\n",
      "  sns.distplot(df['price'], bins=30, kde=True)\n"
     ]
    },
    {
     "data": {
      "image/png": "[encoded data removed]",
      "text/plain": [
       "<Figure size 640x480 with 1 Axes>"
      ]
     },
     "metadata": {},
     "output_type": "display_data"
    }
   ],
   "source": [
    "import seaborn as sns\n",
    "import matplotlib.pyplot as plt\n",
    "sns.distplot(df['price'], bins=30, kde=True)\n",
    "plt.show()"
   ]
  },
  {
   "cell_type": "code",
   "execution_count": 21,
   "id": "102eec9e",
   "metadata": {},
   "outputs": [
    {
     "data": {
      "text/plain": [
       "<Axes: >"
      ]
     },
     "execution_count": 21,
     "metadata": {},
     "output_type": "execute_result"
    },
    {
     "data": {
      "image/png": "[encoded data removed]",
      "text/plain": [
       "<Figure size 640x480 with 1 Axes>"
      ]
     },
     "metadata": {},
     "output_type": "display_data"
    }
   ],
   "source": [
    "# view outlier clearly\n",
    "sns.boxplot(df[\"price\"])"
   ]
  },
  {
   "cell_type": "code",
   "execution_count": 22,
   "id": "26160f59",
   "metadata": {},
   "outputs": [],
   "source": [
    "# we will try different method to remove outliers tosee the one that best fit the column. some of which are \n",
    "# z-score, "
   ]
  },
  {
   "cell_type": "code",
   "execution_count": 23,
   "id": "88727db8",
   "metadata": {},
   "outputs": [
    {
     "name": "stdout",
     "output_type": "stream",
     "text": [
      "873.1831964283906 -567.7418220547329\n"
     ]
    }
   ],
   "source": [
    "# Defining outlier threshold, while computing the mean and standard deviation.  \n",
    "\n",
    "# find the limits. \n",
    "upper_limit = df[\"price\"]. mean() + 3*df[\"price\"].std()\n",
    "lower_limit = df[\"price\"]. mean() -3*df[\"price\"].std()\n",
    "print(upper_limit, lower_limit)"
   ]
  },
  {
   "cell_type": "code",
   "execution_count": 24,
   "id": "8423aaec",
   "metadata": {},
   "outputs": [],
   "source": [
    "# finding outliers values for price:"
   ]
  },
  {
   "cell_type": "code",
   "execution_count": 25,
   "id": "96acff4c",
   "metadata": {},
   "outputs": [
    {
     "data": {
      "text/html": [
       "<div>\n",
       "<style scoped>\n",
       "    .dataframe tbody tr th:only-of-type {\n",
       "        vertical-align: middle;\n",
       "    }\n",
       "\n",
       "    .dataframe tbody tr th {\n",
       "        vertical-align: top;\n",
       "    }\n",
       "\n",
       "    .dataframe thead th {\n",
       "        text-align: right;\n",
       "    }\n",
       "</style>\n",
       "<table border=\"1\" class=\"dataframe\">\n",
       "  <thead>\n",
       "    <tr style=\"text-align: right;\">\n",
       "      <th></th>\n",
       "      <th>id</th>\n",
       "      <th>name</th>\n",
       "      <th>host_id</th>\n",
       "      <th>host_name</th>\n",
       "      <th>neighbourhood_group</th>\n",
       "      <th>neighbourhood</th>\n",
       "      <th>latitude</th>\n",
       "      <th>longitude</th>\n",
       "      <th>room_type</th>\n",
       "      <th>price</th>\n",
       "      <th>minimum_nights</th>\n",
       "      <th>number_of_reviews</th>\n",
       "      <th>last_review</th>\n",
       "      <th>reviews_per_month</th>\n",
       "      <th>calculated_host_listings_count</th>\n",
       "      <th>availability_365</th>\n",
       "    </tr>\n",
       "  </thead>\n",
       "  <tbody>\n",
       "    <tr>\n",
       "      <th>496</th>\n",
       "      <td>174966</td>\n",
       "      <td>Luxury 2Bed/2.5Bath Central Park View</td>\n",
       "      <td>836168</td>\n",
       "      <td>Henry</td>\n",
       "      <td>Manhattan</td>\n",
       "      <td>Upper West Side</td>\n",
       "      <td>40.77350</td>\n",
       "      <td>-73.98697</td>\n",
       "      <td>Entire home/apt</td>\n",
       "      <td>2000</td>\n",
       "      <td>30</td>\n",
       "      <td>30</td>\n",
       "      <td>2018-05-05</td>\n",
       "      <td>0.33</td>\n",
       "      <td>11</td>\n",
       "      <td>0</td>\n",
       "    </tr>\n",
       "    <tr>\n",
       "      <th>762</th>\n",
       "      <td>273190</td>\n",
       "      <td>6 Bedroom Landmark West Village Townhouse</td>\n",
       "      <td>605463</td>\n",
       "      <td>West Village</td>\n",
       "      <td>Manhattan</td>\n",
       "      <td>West Village</td>\n",
       "      <td>40.73301</td>\n",
       "      <td>-74.00268</td>\n",
       "      <td>Entire home/apt</td>\n",
       "      <td>1300</td>\n",
       "      <td>5</td>\n",
       "      <td>28</td>\n",
       "      <td>2018-09-25</td>\n",
       "      <td>0.31</td>\n",
       "      <td>4</td>\n",
       "      <td>297</td>\n",
       "    </tr>\n",
       "    <tr>\n",
       "      <th>946</th>\n",
       "      <td>363673</td>\n",
       "      <td>Beautiful 3 bedroom in Manhattan</td>\n",
       "      <td>256239</td>\n",
       "      <td>Tracey</td>\n",
       "      <td>Manhattan</td>\n",
       "      <td>Upper West Side</td>\n",
       "      <td>40.80142</td>\n",
       "      <td>-73.96931</td>\n",
       "      <td>Private room</td>\n",
       "      <td>3000</td>\n",
       "      <td>7</td>\n",
       "      <td>0</td>\n",
       "      <td>no_ review</td>\n",
       "      <td>0.72</td>\n",
       "      <td>1</td>\n",
       "      <td>365</td>\n",
       "    </tr>\n",
       "    <tr>\n",
       "      <th>1105</th>\n",
       "      <td>468613</td>\n",
       "      <td>$ (Phone number hidden by Airbnb) weeks - room f</td>\n",
       "      <td>2325861</td>\n",
       "      <td>Cynthia</td>\n",
       "      <td>Manhattan</td>\n",
       "      <td>Lower East Side</td>\n",
       "      <td>40.72152</td>\n",
       "      <td>-73.99279</td>\n",
       "      <td>Private room</td>\n",
       "      <td>1300</td>\n",
       "      <td>1</td>\n",
       "      <td>0</td>\n",
       "      <td>no_ review</td>\n",
       "      <td>0.72</td>\n",
       "      <td>1</td>\n",
       "      <td>0</td>\n",
       "    </tr>\n",
       "    <tr>\n",
       "      <th>1414</th>\n",
       "      <td>634353</td>\n",
       "      <td>Luxury 1Bed with Central Park Views</td>\n",
       "      <td>836168</td>\n",
       "      <td>Henry</td>\n",
       "      <td>Manhattan</td>\n",
       "      <td>Upper West Side</td>\n",
       "      <td>40.77428</td>\n",
       "      <td>-73.98594</td>\n",
       "      <td>Entire home/apt</td>\n",
       "      <td>1000</td>\n",
       "      <td>30</td>\n",
       "      <td>44</td>\n",
       "      <td>2015-09-28</td>\n",
       "      <td>0.53</td>\n",
       "      <td>11</td>\n",
       "      <td>364</td>\n",
       "    </tr>\n",
       "    <tr>\n",
       "      <th>...</th>\n",
       "      <td>...</td>\n",
       "      <td>...</td>\n",
       "      <td>...</td>\n",
       "      <td>...</td>\n",
       "      <td>...</td>\n",
       "      <td>...</td>\n",
       "      <td>...</td>\n",
       "      <td>...</td>\n",
       "      <td>...</td>\n",
       "      <td>...</td>\n",
       "      <td>...</td>\n",
       "      <td>...</td>\n",
       "      <td>...</td>\n",
       "      <td>...</td>\n",
       "      <td>...</td>\n",
       "      <td>...</td>\n",
       "    </tr>\n",
       "    <tr>\n",
       "      <th>48301</th>\n",
       "      <td>36186719</td>\n",
       "      <td>Private Bedroom in the Heart of Chelsea!</td>\n",
       "      <td>268920555</td>\n",
       "      <td>Terrence Jake</td>\n",
       "      <td>Manhattan</td>\n",
       "      <td>Chelsea</td>\n",
       "      <td>40.74531</td>\n",
       "      <td>-73.99454</td>\n",
       "      <td>Private room</td>\n",
       "      <td>999</td>\n",
       "      <td>30</td>\n",
       "      <td>0</td>\n",
       "      <td>no_ review</td>\n",
       "      <td>0.72</td>\n",
       "      <td>1</td>\n",
       "      <td>270</td>\n",
       "    </tr>\n",
       "    <tr>\n",
       "      <th>48304</th>\n",
       "      <td>36189195</td>\n",
       "      <td>Next to Times Square/Javits/MSG! Amazing 1BR!</td>\n",
       "      <td>270214015</td>\n",
       "      <td>Rogelio</td>\n",
       "      <td>Manhattan</td>\n",
       "      <td>Hell's Kitchen</td>\n",
       "      <td>40.75533</td>\n",
       "      <td>-73.99866</td>\n",
       "      <td>Entire home/apt</td>\n",
       "      <td>2999</td>\n",
       "      <td>30</td>\n",
       "      <td>0</td>\n",
       "      <td>no_ review</td>\n",
       "      <td>0.72</td>\n",
       "      <td>1</td>\n",
       "      <td>222</td>\n",
       "    </tr>\n",
       "    <tr>\n",
       "      <th>48305</th>\n",
       "      <td>36189257</td>\n",
       "      <td>2BR Near Museum Mile! Upper East Side!</td>\n",
       "      <td>272166348</td>\n",
       "      <td>Mary Rotsen</td>\n",
       "      <td>Manhattan</td>\n",
       "      <td>Upper East Side</td>\n",
       "      <td>40.78132</td>\n",
       "      <td>-73.95262</td>\n",
       "      <td>Entire home/apt</td>\n",
       "      <td>1999</td>\n",
       "      <td>30</td>\n",
       "      <td>0</td>\n",
       "      <td>no_ review</td>\n",
       "      <td>0.72</td>\n",
       "      <td>1</td>\n",
       "      <td>270</td>\n",
       "    </tr>\n",
       "    <tr>\n",
       "      <th>48523</th>\n",
       "      <td>36308562</td>\n",
       "      <td>Tasteful &amp; Trendy Brooklyn Brownstone, near Train</td>\n",
       "      <td>217732163</td>\n",
       "      <td>Sandy</td>\n",
       "      <td>Brooklyn</td>\n",
       "      <td>Bedford-Stuyvesant</td>\n",
       "      <td>40.68767</td>\n",
       "      <td>-73.95805</td>\n",
       "      <td>Entire home/apt</td>\n",
       "      <td>1369</td>\n",
       "      <td>1</td>\n",
       "      <td>0</td>\n",
       "      <td>no_ review</td>\n",
       "      <td>0.72</td>\n",
       "      <td>1</td>\n",
       "      <td>349</td>\n",
       "    </tr>\n",
       "    <tr>\n",
       "      <th>48535</th>\n",
       "      <td>36311055</td>\n",
       "      <td>Stunning &amp; Stylish Brooklyn Luxury, near Train</td>\n",
       "      <td>245712163</td>\n",
       "      <td>Urvashi</td>\n",
       "      <td>Brooklyn</td>\n",
       "      <td>Bedford-Stuyvesant</td>\n",
       "      <td>40.68245</td>\n",
       "      <td>-73.93417</td>\n",
       "      <td>Entire home/apt</td>\n",
       "      <td>1749</td>\n",
       "      <td>1</td>\n",
       "      <td>0</td>\n",
       "      <td>no_ review</td>\n",
       "      <td>0.72</td>\n",
       "      <td>1</td>\n",
       "      <td>303</td>\n",
       "    </tr>\n",
       "  </tbody>\n",
       "</table>\n",
       "<p>388 rows × 16 columns</p>\n",
       "</div>"
      ],
      "text/plain": [
       "             id                                               name    host_id  \\\n",
       "496      174966              Luxury 2Bed/2.5Bath Central Park View     836168   \n",
       "762      273190          6 Bedroom Landmark West Village Townhouse     605463   \n",
       "946      363673                   Beautiful 3 bedroom in Manhattan     256239   \n",
       "1105     468613   $ (Phone number hidden by Airbnb) weeks - room f    2325861   \n",
       "1414     634353                Luxury 1Bed with Central Park Views     836168   \n",
       "...         ...                                                ...        ...   \n",
       "48301  36186719           Private Bedroom in the Heart of Chelsea!  268920555   \n",
       "48304  36189195      Next to Times Square/Javits/MSG! Amazing 1BR!  270214015   \n",
       "48305  36189257             2BR Near Museum Mile! Upper East Side!  272166348   \n",
       "48523  36308562  Tasteful & Trendy Brooklyn Brownstone, near Train  217732163   \n",
       "48535  36311055     Stunning & Stylish Brooklyn Luxury, near Train  245712163   \n",
       "\n",
       "           host_name neighbourhood_group       neighbourhood  latitude  \\\n",
       "496            Henry           Manhattan     Upper West Side  40.77350   \n",
       "762     West Village           Manhattan        West Village  40.73301   \n",
       "946           Tracey           Manhattan     Upper West Side  40.80142   \n",
       "1105         Cynthia           Manhattan     Lower East Side  40.72152   \n",
       "1414           Henry           Manhattan     Upper West Side  40.77428   \n",
       "...              ...                 ...                 ...       ...   \n",
       "48301  Terrence Jake           Manhattan             Chelsea  40.74531   \n",
       "48304        Rogelio           Manhattan      Hell's Kitchen  40.75533   \n",
       "48305    Mary Rotsen           Manhattan     Upper East Side  40.78132   \n",
       "48523          Sandy            Brooklyn  Bedford-Stuyvesant  40.68767   \n",
       "48535        Urvashi            Brooklyn  Bedford-Stuyvesant  40.68245   \n",
       "\n",
       "       longitude        room_type  price  minimum_nights  number_of_reviews  \\\n",
       "496    -73.98697  Entire home/apt   2000              30                 30   \n",
       "762    -74.00268  Entire home/apt   1300               5                 28   \n",
       "946    -73.96931     Private room   3000               7                  0   \n",
       "1105   -73.99279     Private room   1300               1                  0   \n",
       "1414   -73.98594  Entire home/apt   1000              30                 44   \n",
       "...          ...              ...    ...             ...                ...   \n",
       "48301  -73.99454     Private room    999              30                  0   \n",
       "48304  -73.99866  Entire home/apt   2999              30                  0   \n",
       "48305  -73.95262  Entire home/apt   1999              30                  0   \n",
       "48523  -73.95805  Entire home/apt   1369               1                  0   \n",
       "48535  -73.93417  Entire home/apt   1749               1                  0   \n",
       "\n",
       "      last_review  reviews_per_month  calculated_host_listings_count  \\\n",
       "496    2018-05-05               0.33                              11   \n",
       "762    2018-09-25               0.31                               4   \n",
       "946    no_ review               0.72                               1   \n",
       "1105   no_ review               0.72                               1   \n",
       "1414   2015-09-28               0.53                              11   \n",
       "...           ...                ...                             ...   \n",
       "48301  no_ review               0.72                               1   \n",
       "48304  no_ review               0.72                               1   \n",
       "48305  no_ review               0.72                               1   \n",
       "48523  no_ review               0.72                               1   \n",
       "48535  no_ review               0.72                               1   \n",
       "\n",
       "       availability_365  \n",
       "496                   0  \n",
       "762                 297  \n",
       "946                 365  \n",
       "1105                  0  \n",
       "1414                364  \n",
       "...                 ...  \n",
       "48301               270  \n",
       "48304               222  \n",
       "48305               270  \n",
       "48523               349  \n",
       "48535               303  \n",
       "\n",
       "[388 rows x 16 columns]"
      ]
     },
     "execution_count": 25,
     "metadata": {},
     "output_type": "execute_result"
    }
   ],
   "source": [
    "#display the outlier values \n",
    "df.loc[(df[\"price\"]> upper_limit) | (df[\"price\"] < lower_limit)] "
   ]
  },
  {
   "cell_type": "code",
   "execution_count": 26,
   "id": "068dc034",
   "metadata": {},
   "outputs": [
    {
     "name": "stdout",
     "output_type": "stream",
     "text": [
      "old_data: 48895\n",
      "new_data: 48507\n",
      "outliers: 388\n"
     ]
    }
   ],
   "source": [
    "new_df = df.loc[(df[\"price\"] <= upper_limit) & (df[\"price\"] >=  lower_limit)] \n",
    "print(\"old_data:\", len(df))\n",
    "print(\"new_data:\", len(new_df))\n",
    "print('outliers:', len(df)-len(new_df))"
   ]
  },
  {
   "cell_type": "code",
   "execution_count": 27,
   "id": "a2dcd472",
   "metadata": {},
   "outputs": [
    {
     "data": {
      "text/plain": [
       "<Axes: >"
      ]
     },
     "execution_count": 27,
     "metadata": {},
     "output_type": "execute_result"
    },
    {
     "data": {
      "image/png": "[encoded data removed]",
      "text/plain": [
       "<Figure size 640x480 with 1 Axes>"
      ]
     },
     "metadata": {},
     "output_type": "display_data"
    }
   ],
   "source": [
    "sns.boxplot(new_df['price'])"
   ]
  },
  {
   "cell_type": "code",
   "execution_count": null,
   "id": "9eb6dbc9",
   "metadata": {},
   "outputs": [],
   "source": []
  },
  {
   "cell_type": "markdown",
   "id": "db7422ad",
   "metadata": {},
   "source": [
    "###### CAPPING METHOD - changing outlier values to upper or lower limit values. "
   ]
  },
  {
   "cell_type": "code",
   "execution_count": 28,
   "id": "59d6d295",
   "metadata": {},
   "outputs": [],
   "source": [
    "new_df.loc[(new_df['price']> upper_limit), 'price'] = upper_limit\n",
    "new_df.loc[(new_df['price']< lower_limit), 'price'] = lower_limit"
   ]
  },
  {
   "cell_type": "code",
   "execution_count": 29,
   "id": "02914ce3",
   "metadata": {},
   "outputs": [
    {
     "data": {
      "text/plain": [
       "<Axes: >"
      ]
     },
     "execution_count": 29,
     "metadata": {},
     "output_type": "execute_result"
    },
    {
     "data": {
      "image/png": "[encoded data removed]",
      "text/plain": [
       "<Figure size 640x480 with 1 Axes>"
      ]
     },
     "metadata": {},
     "output_type": "display_data"
    }
   ],
   "source": [
    "sns.boxplot(new_df['price'])"
   ]
  },
  {
   "cell_type": "code",
   "execution_count": 30,
   "id": "058fe797",
   "metadata": {},
   "outputs": [
    {
     "data": {
      "text/plain": [
       "48507"
      ]
     },
     "execution_count": 30,
     "metadata": {},
     "output_type": "execute_result"
    }
   ],
   "source": [
    "len(new_df)"
   ]
  },
  {
   "cell_type": "code",
   "execution_count": 31,
   "id": "423214da",
   "metadata": {},
   "outputs": [
    {
     "name": "stderr",
     "output_type": "stream",
     "text": [
      "C:\\Users\\Hammed\\AppData\\Local\\Temp\\ipykernel_14308\\2265666257.py:1: UserWarning: \n",
      "\n",
      "`distplot` is a deprecated function and will be removed in seaborn v0.14.0.\n",
      "\n",
      "Please adapt your code to use either `displot` (a figure-level function with\n",
      "similar flexibility) or `histplot` (an axes-level function for histograms).\n",
      "\n",
      "For a guide to updating your code to use the new functions, please see\n",
      "https://gist.github.com/mwaskom/de44147ed2974457ad6372750bbe5751\n",
      "\n",
      "  sns.distplot(new_df['price'])\n"
     ]
    },
    {
     "data": {
      "text/plain": [
       "<Axes: xlabel='price', ylabel='Density'>"
      ]
     },
     "execution_count": 31,
     "metadata": {},
     "output_type": "execute_result"
    },
    {
     "data": {
      "image/png": "[encoded data removed]",
      "text/plain": [
       "<Figure size 640x480 with 1 Axes>"
      ]
     },
     "metadata": {},
     "output_type": "display_data"
    }
   ],
   "source": [
    "sns.distplot(new_df['price'])"
   ]
  },
  {
   "cell_type": "code",
   "execution_count": 32,
   "id": "259442d9",
   "metadata": {},
   "outputs": [],
   "source": [
    "# Identify numerical columns\n",
    "numerical_cols = new_df.select_dtypes(include=['number']).columns\n"
   ]
  },
  {
   "cell_type": "code",
   "execution_count": 33,
   "id": "4250bc09",
   "metadata": {},
   "outputs": [
    {
     "name": "stdout",
     "output_type": "stream",
     "text": [
      "id                                -0.090125\n",
      "host_id                            1.207032\n",
      "latitude                           0.242170\n",
      "longitude                          1.281469\n",
      "price                              2.449516\n",
      "minimum_nights                    22.336587\n",
      "number_of_reviews                  3.679972\n",
      "reviews_per_month                  3.596062\n",
      "calculated_host_listings_count     7.909199\n",
      "availability_365                   0.770302\n",
      "dtype: float64\n"
     ]
    }
   ],
   "source": [
    "print(new_df[numerical_cols].skew())"
   ]
  },
  {
   "cell_type": "code",
   "execution_count": null,
   "id": "893dbe80",
   "metadata": {},
   "outputs": [],
   "source": []
  },
  {
   "cell_type": "code",
   "execution_count": null,
   "id": "28f99ca2",
   "metadata": {},
   "outputs": [],
   "source": []
  },
  {
   "cell_type": "code",
   "execution_count": null,
   "id": "3df37ac9",
   "metadata": {},
   "outputs": [],
   "source": []
  },
  {
   "cell_type": "markdown",
   "id": "0128d06f",
   "metadata": {},
   "source": [
    "##### 2,  INTERQUARTILE RANGE METHOD (IQR)"
   ]
  },
  {
   "cell_type": "code",
   "execution_count": 34,
   "id": "739c6185",
   "metadata": {},
   "outputs": [],
   "source": [
    "q1 = df['price']. quantile(0.25)\n",
    "q3 = df['price']. quantile(0.75)\n",
    "iqr = q3 - q1"
   ]
  },
  {
   "cell_type": "code",
   "execution_count": 35,
   "id": "2b8d6f34",
   "metadata": {},
   "outputs": [
    {
     "name": "stdout",
     "output_type": "stream",
     "text": [
      "q1: 69.0 q3: 175.0 106.0\n"
     ]
    }
   ],
   "source": [
    "print('q1:', q1, 'q3:', q3, iqr)"
   ]
  },
  {
   "cell_type": "code",
   "execution_count": 36,
   "id": "b74ef726",
   "metadata": {},
   "outputs": [
    {
     "data": {
      "text/plain": [
       "(-90.0, 334.0)"
      ]
     },
     "execution_count": 36,
     "metadata": {},
     "output_type": "execute_result"
    }
   ],
   "source": [
    "upper_limit = q3 +(1.5* iqr)\n",
    "lower_limit = q1 -(1.5* iqr)\n",
    "lower_limit, upper_limit"
   ]
  },
  {
   "cell_type": "code",
   "execution_count": 37,
   "id": "dff1db30",
   "metadata": {},
   "outputs": [
    {
     "data": {
      "text/plain": [
       "<Axes: >"
      ]
     },
     "execution_count": 37,
     "metadata": {},
     "output_type": "execute_result"
    },
    {
     "data": {
      "image/png": "[encoded data removed]",
      "text/plain": [
       "<Figure size 640x480 with 1 Axes>"
      ]
     },
     "metadata": {},
     "output_type": "display_data"
    }
   ],
   "source": [
    "sns.boxplot(df['price'])"
   ]
  },
  {
   "cell_type": "code",
   "execution_count": 38,
   "id": "43a21f37",
   "metadata": {},
   "outputs": [
    {
     "data": {
      "text/html": [
       "<div>\n",
       "<style scoped>\n",
       "    .dataframe tbody tr th:only-of-type {\n",
       "        vertical-align: middle;\n",
       "    }\n",
       "\n",
       "    .dataframe tbody tr th {\n",
       "        vertical-align: top;\n",
       "    }\n",
       "\n",
       "    .dataframe thead th {\n",
       "        text-align: right;\n",
       "    }\n",
       "</style>\n",
       "<table border=\"1\" class=\"dataframe\">\n",
       "  <thead>\n",
       "    <tr style=\"text-align: right;\">\n",
       "      <th></th>\n",
       "      <th>id</th>\n",
       "      <th>name</th>\n",
       "      <th>host_id</th>\n",
       "      <th>host_name</th>\n",
       "      <th>neighbourhood_group</th>\n",
       "      <th>neighbourhood</th>\n",
       "      <th>latitude</th>\n",
       "      <th>longitude</th>\n",
       "      <th>room_type</th>\n",
       "      <th>price</th>\n",
       "      <th>minimum_nights</th>\n",
       "      <th>number_of_reviews</th>\n",
       "      <th>last_review</th>\n",
       "      <th>reviews_per_month</th>\n",
       "      <th>calculated_host_listings_count</th>\n",
       "      <th>availability_365</th>\n",
       "    </tr>\n",
       "  </thead>\n",
       "  <tbody>\n",
       "    <tr>\n",
       "      <th>61</th>\n",
       "      <td>15396</td>\n",
       "      <td>Sunny &amp; Spacious Chelsea Apartment</td>\n",
       "      <td>60278</td>\n",
       "      <td>Petra</td>\n",
       "      <td>Manhattan</td>\n",
       "      <td>Chelsea</td>\n",
       "      <td>40.74623</td>\n",
       "      <td>-73.99530</td>\n",
       "      <td>Entire home/apt</td>\n",
       "      <td>375</td>\n",
       "      <td>180</td>\n",
       "      <td>5</td>\n",
       "      <td>2018-11-03</td>\n",
       "      <td>0.12</td>\n",
       "      <td>1</td>\n",
       "      <td>180</td>\n",
       "    </tr>\n",
       "    <tr>\n",
       "      <th>85</th>\n",
       "      <td>19601</td>\n",
       "      <td>perfect for a family or small group</td>\n",
       "      <td>74303</td>\n",
       "      <td>Maggie</td>\n",
       "      <td>Brooklyn</td>\n",
       "      <td>Brooklyn Heights</td>\n",
       "      <td>40.69723</td>\n",
       "      <td>-73.99268</td>\n",
       "      <td>Entire home/apt</td>\n",
       "      <td>800</td>\n",
       "      <td>1</td>\n",
       "      <td>25</td>\n",
       "      <td>2016-08-04</td>\n",
       "      <td>0.24</td>\n",
       "      <td>1</td>\n",
       "      <td>7</td>\n",
       "    </tr>\n",
       "    <tr>\n",
       "      <th>103</th>\n",
       "      <td>23686</td>\n",
       "      <td>2000 SF 3br 2bath West Village private  townhouse</td>\n",
       "      <td>93790</td>\n",
       "      <td>Ann</td>\n",
       "      <td>Manhattan</td>\n",
       "      <td>West Village</td>\n",
       "      <td>40.73096</td>\n",
       "      <td>-74.00319</td>\n",
       "      <td>Entire home/apt</td>\n",
       "      <td>500</td>\n",
       "      <td>4</td>\n",
       "      <td>46</td>\n",
       "      <td>2019-05-18</td>\n",
       "      <td>0.55</td>\n",
       "      <td>2</td>\n",
       "      <td>243</td>\n",
       "    </tr>\n",
       "    <tr>\n",
       "      <th>114</th>\n",
       "      <td>26933</td>\n",
       "      <td>2 BR / 2 Bath Duplex Apt with patio! East Village</td>\n",
       "      <td>72062</td>\n",
       "      <td>Bruce</td>\n",
       "      <td>Manhattan</td>\n",
       "      <td>East Village</td>\n",
       "      <td>40.72540</td>\n",
       "      <td>-73.98157</td>\n",
       "      <td>Entire home/apt</td>\n",
       "      <td>350</td>\n",
       "      <td>2</td>\n",
       "      <td>7</td>\n",
       "      <td>2017-08-09</td>\n",
       "      <td>0.06</td>\n",
       "      <td>4</td>\n",
       "      <td>298</td>\n",
       "    </tr>\n",
       "    <tr>\n",
       "      <th>121</th>\n",
       "      <td>27659</td>\n",
       "      <td>3 Story Town House in Park Slope</td>\n",
       "      <td>119588</td>\n",
       "      <td>Vero</td>\n",
       "      <td>Brooklyn</td>\n",
       "      <td>South Slope</td>\n",
       "      <td>40.66499</td>\n",
       "      <td>-73.97925</td>\n",
       "      <td>Entire home/apt</td>\n",
       "      <td>400</td>\n",
       "      <td>2</td>\n",
       "      <td>16</td>\n",
       "      <td>2018-12-30</td>\n",
       "      <td>0.24</td>\n",
       "      <td>2</td>\n",
       "      <td>216</td>\n",
       "    </tr>\n",
       "    <tr>\n",
       "      <th>...</th>\n",
       "      <td>...</td>\n",
       "      <td>...</td>\n",
       "      <td>...</td>\n",
       "      <td>...</td>\n",
       "      <td>...</td>\n",
       "      <td>...</td>\n",
       "      <td>...</td>\n",
       "      <td>...</td>\n",
       "      <td>...</td>\n",
       "      <td>...</td>\n",
       "      <td>...</td>\n",
       "      <td>...</td>\n",
       "      <td>...</td>\n",
       "      <td>...</td>\n",
       "      <td>...</td>\n",
       "      <td>...</td>\n",
       "    </tr>\n",
       "    <tr>\n",
       "      <th>48758</th>\n",
       "      <td>36420289</td>\n",
       "      <td>Rustic Garden House Apt, 2 stops from Manhattan</td>\n",
       "      <td>73211393</td>\n",
       "      <td>LaGabrell</td>\n",
       "      <td>Queens</td>\n",
       "      <td>Long Island City</td>\n",
       "      <td>40.75508</td>\n",
       "      <td>-73.93258</td>\n",
       "      <td>Entire home/apt</td>\n",
       "      <td>350</td>\n",
       "      <td>2</td>\n",
       "      <td>0</td>\n",
       "      <td>no_ review</td>\n",
       "      <td>0.72</td>\n",
       "      <td>1</td>\n",
       "      <td>364</td>\n",
       "    </tr>\n",
       "    <tr>\n",
       "      <th>48833</th>\n",
       "      <td>36450896</td>\n",
       "      <td>Brand New 3-Bed Apt in the Best Location of FiDi</td>\n",
       "      <td>29741813</td>\n",
       "      <td>Yue</td>\n",
       "      <td>Manhattan</td>\n",
       "      <td>Financial District</td>\n",
       "      <td>40.70605</td>\n",
       "      <td>-74.01042</td>\n",
       "      <td>Entire home/apt</td>\n",
       "      <td>475</td>\n",
       "      <td>2</td>\n",
       "      <td>0</td>\n",
       "      <td>no_ review</td>\n",
       "      <td>0.72</td>\n",
       "      <td>1</td>\n",
       "      <td>64</td>\n",
       "    </tr>\n",
       "    <tr>\n",
       "      <th>48839</th>\n",
       "      <td>36452721</td>\n",
       "      <td>Massage Spa. Stay overnight. Authors Artist dr...</td>\n",
       "      <td>274079964</td>\n",
       "      <td>Richard</td>\n",
       "      <td>Brooklyn</td>\n",
       "      <td>Sheepshead Bay</td>\n",
       "      <td>40.59866</td>\n",
       "      <td>-73.95661</td>\n",
       "      <td>Private room</td>\n",
       "      <td>800</td>\n",
       "      <td>1</td>\n",
       "      <td>0</td>\n",
       "      <td>no_ review</td>\n",
       "      <td>0.72</td>\n",
       "      <td>1</td>\n",
       "      <td>23</td>\n",
       "    </tr>\n",
       "    <tr>\n",
       "      <th>48842</th>\n",
       "      <td>36453160</td>\n",
       "      <td>LUXURY MANHATTAN PENTHOUSE+HUDSON RIVER+EMPIRE...</td>\n",
       "      <td>224171371</td>\n",
       "      <td>LuxuryApartmentsByAmber</td>\n",
       "      <td>Manhattan</td>\n",
       "      <td>Chelsea</td>\n",
       "      <td>40.75204</td>\n",
       "      <td>-74.00292</td>\n",
       "      <td>Entire home/apt</td>\n",
       "      <td>350</td>\n",
       "      <td>1</td>\n",
       "      <td>0</td>\n",
       "      <td>no_ review</td>\n",
       "      <td>0.72</td>\n",
       "      <td>1</td>\n",
       "      <td>9</td>\n",
       "    </tr>\n",
       "    <tr>\n",
       "      <th>48856</th>\n",
       "      <td>36457700</td>\n",
       "      <td>Large 3 bed, 2 bath , garden , bbq , all you need</td>\n",
       "      <td>66993395</td>\n",
       "      <td>Thomas</td>\n",
       "      <td>Brooklyn</td>\n",
       "      <td>Bedford-Stuyvesant</td>\n",
       "      <td>40.68886</td>\n",
       "      <td>-73.92879</td>\n",
       "      <td>Entire home/apt</td>\n",
       "      <td>345</td>\n",
       "      <td>4</td>\n",
       "      <td>0</td>\n",
       "      <td>no_ review</td>\n",
       "      <td>0.72</td>\n",
       "      <td>3</td>\n",
       "      <td>354</td>\n",
       "    </tr>\n",
       "  </tbody>\n",
       "</table>\n",
       "<p>2972 rows × 16 columns</p>\n",
       "</div>"
      ],
      "text/plain": [
       "             id                                               name    host_id  \\\n",
       "61        15396                 Sunny & Spacious Chelsea Apartment      60278   \n",
       "85        19601                perfect for a family or small group      74303   \n",
       "103       23686  2000 SF 3br 2bath West Village private  townhouse      93790   \n",
       "114       26933  2 BR / 2 Bath Duplex Apt with patio! East Village      72062   \n",
       "121       27659                   3 Story Town House in Park Slope     119588   \n",
       "...         ...                                                ...        ...   \n",
       "48758  36420289    Rustic Garden House Apt, 2 stops from Manhattan   73211393   \n",
       "48833  36450896   Brand New 3-Bed Apt in the Best Location of FiDi   29741813   \n",
       "48839  36452721  Massage Spa. Stay overnight. Authors Artist dr...  274079964   \n",
       "48842  36453160  LUXURY MANHATTAN PENTHOUSE+HUDSON RIVER+EMPIRE...  224171371   \n",
       "48856  36457700  Large 3 bed, 2 bath , garden , bbq , all you need   66993395   \n",
       "\n",
       "                     host_name neighbourhood_group       neighbourhood  \\\n",
       "61                       Petra           Manhattan             Chelsea   \n",
       "85                      Maggie            Brooklyn    Brooklyn Heights   \n",
       "103                        Ann           Manhattan        West Village   \n",
       "114                      Bruce           Manhattan        East Village   \n",
       "121                       Vero            Brooklyn         South Slope   \n",
       "...                        ...                 ...                 ...   \n",
       "48758                LaGabrell              Queens    Long Island City   \n",
       "48833                      Yue           Manhattan  Financial District   \n",
       "48839                  Richard            Brooklyn      Sheepshead Bay   \n",
       "48842  LuxuryApartmentsByAmber           Manhattan             Chelsea   \n",
       "48856                   Thomas            Brooklyn  Bedford-Stuyvesant   \n",
       "\n",
       "       latitude  longitude        room_type  price  minimum_nights  \\\n",
       "61     40.74623  -73.99530  Entire home/apt    375             180   \n",
       "85     40.69723  -73.99268  Entire home/apt    800               1   \n",
       "103    40.73096  -74.00319  Entire home/apt    500               4   \n",
       "114    40.72540  -73.98157  Entire home/apt    350               2   \n",
       "121    40.66499  -73.97925  Entire home/apt    400               2   \n",
       "...         ...        ...              ...    ...             ...   \n",
       "48758  40.75508  -73.93258  Entire home/apt    350               2   \n",
       "48833  40.70605  -74.01042  Entire home/apt    475               2   \n",
       "48839  40.59866  -73.95661     Private room    800               1   \n",
       "48842  40.75204  -74.00292  Entire home/apt    350               1   \n",
       "48856  40.68886  -73.92879  Entire home/apt    345               4   \n",
       "\n",
       "       number_of_reviews last_review  reviews_per_month  \\\n",
       "61                     5  2018-11-03               0.12   \n",
       "85                    25  2016-08-04               0.24   \n",
       "103                   46  2019-05-18               0.55   \n",
       "114                    7  2017-08-09               0.06   \n",
       "121                   16  2018-12-30               0.24   \n",
       "...                  ...         ...                ...   \n",
       "48758                  0  no_ review               0.72   \n",
       "48833                  0  no_ review               0.72   \n",
       "48839                  0  no_ review               0.72   \n",
       "48842                  0  no_ review               0.72   \n",
       "48856                  0  no_ review               0.72   \n",
       "\n",
       "       calculated_host_listings_count  availability_365  \n",
       "61                                  1               180  \n",
       "85                                  1                 7  \n",
       "103                                 2               243  \n",
       "114                                 4               298  \n",
       "121                                 2               216  \n",
       "...                               ...               ...  \n",
       "48758                               1               364  \n",
       "48833                               1                64  \n",
       "48839                               1                23  \n",
       "48842                               1                 9  \n",
       "48856                               3               354  \n",
       "\n",
       "[2972 rows x 16 columns]"
      ]
     },
     "execution_count": 38,
     "metadata": {},
     "output_type": "execute_result"
    }
   ],
   "source": [
    "# Find outliers \n",
    "df.loc[(df[\"price\"]> upper_limit) | (df[\"price\"] < lower_limit)] "
   ]
  },
  {
   "cell_type": "code",
   "execution_count": 39,
   "id": "1d5f3378",
   "metadata": {},
   "outputs": [
    {
     "name": "stdout",
     "output_type": "stream",
     "text": [
      "old_data: 48895\n",
      "new_data: 45923\n",
      "outliers: 2972\n"
     ]
    }
   ],
   "source": [
    "### trim the data\n",
    "new_df = df.loc[(df[\"price\"] <= upper_limit) & (df[\"price\"] >=  lower_limit)] \n",
    "print(\"old_data:\", len(df))\n",
    "print(\"new_data:\", len(new_df))\n",
    "print('outliers:', len(df)-len(new_df))"
   ]
  },
  {
   "cell_type": "code",
   "execution_count": 40,
   "id": "ea08a6d5",
   "metadata": {},
   "outputs": [
    {
     "data": {
      "text/plain": [
       "<Axes: >"
      ]
     },
     "execution_count": 40,
     "metadata": {},
     "output_type": "execute_result"
    },
    {
     "data": {
      "image/png": "[encoded data removed]",
      "text/plain": [
       "<Figure size 640x480 with 1 Axes>"
      ]
     },
     "metadata": {},
     "output_type": "display_data"
    }
   ],
   "source": [
    "sns.boxplot(new_df['price'])"
   ]
  },
  {
   "cell_type": "code",
   "execution_count": 41,
   "id": "adfe19ef",
   "metadata": {},
   "outputs": [],
   "source": [
    "### capping \n",
    "new_df = df.copy()\n",
    "new_df.loc[(new_df['price']> upper_limit), 'price'] = upper_limit\n",
    "new_df.loc[(new_df['price']< lower_limit), 'price'] = lower_limit"
   ]
  },
  {
   "cell_type": "code",
   "execution_count": 42,
   "id": "ff219ad9",
   "metadata": {},
   "outputs": [
    {
     "data": {
      "text/plain": [
       "<Axes: >"
      ]
     },
     "execution_count": 42,
     "metadata": {},
     "output_type": "execute_result"
    },
    {
     "data": {
      "image/png": "[encoded data removed]",
      "text/plain": [
       "<Figure size 640x480 with 1 Axes>"
      ]
     },
     "metadata": {},
     "output_type": "display_data"
    }
   ],
   "source": [
    "sns.boxplot(new_df['price'])"
   ]
  },
  {
   "cell_type": "code",
   "execution_count": 43,
   "id": "7ff4f2e3",
   "metadata": {},
   "outputs": [
    {
     "name": "stderr",
     "output_type": "stream",
     "text": [
      "C:\\Users\\Hammed\\AppData\\Local\\Temp\\ipykernel_14308\\2265666257.py:1: UserWarning: \n",
      "\n",
      "`distplot` is a deprecated function and will be removed in seaborn v0.14.0.\n",
      "\n",
      "Please adapt your code to use either `displot` (a figure-level function with\n",
      "similar flexibility) or `histplot` (an axes-level function for histograms).\n",
      "\n",
      "For a guide to updating your code to use the new functions, please see\n",
      "https://gist.github.com/mwaskom/de44147ed2974457ad6372750bbe5751\n",
      "\n",
      "  sns.distplot(new_df['price'])\n"
     ]
    },
    {
     "data": {
      "text/plain": [
       "<Axes: xlabel='price', ylabel='Density'>"
      ]
     },
     "execution_count": 43,
     "metadata": {},
     "output_type": "execute_result"
    },
    {
     "data": {
      "image/png": "[encoded data removed]",
      "text/plain": [
       "<Figure size 640x480 with 1 Axes>"
      ]
     },
     "metadata": {},
     "output_type": "display_data"
    }
   ],
   "source": [
    "sns.distplot(new_df['price'])"
   ]
  },
  {
   "cell_type": "markdown",
   "id": "8aa3a9db",
   "metadata": {},
   "source": [
    "###### 3. PERCENTILE METHOD\n"
   ]
  },
  {
   "cell_type": "code",
   "execution_count": 44,
   "id": "8ddbc4a6",
   "metadata": {},
   "outputs": [
    {
     "data": {
      "text/plain": [
       "(18.0, 799.0)"
      ]
     },
     "execution_count": 44,
     "metadata": {},
     "output_type": "execute_result"
    }
   ],
   "source": [
    "upper_limit = df['price'].quantile(0.99)\n",
    "lower_limit = df['price'].quantile(0.001)\n",
    "lower_limit, upper_limit"
   ]
  },
  {
   "cell_type": "code",
   "execution_count": 45,
   "id": "dc8815e9",
   "metadata": {},
   "outputs": [
    {
     "data": {
      "text/plain": [
       "<Axes: >"
      ]
     },
     "execution_count": 45,
     "metadata": {},
     "output_type": "execute_result"
    },
    {
     "data": {
      "image/png": "[encoded data removed]",
      "text/plain": [
       "<Figure size 640x480 with 1 Axes>"
      ]
     },
     "metadata": {},
     "output_type": "display_data"
    }
   ],
   "source": [
    "sns.boxplot(df['price'])"
   ]
  },
  {
   "cell_type": "code",
   "execution_count": 46,
   "id": "58d86215",
   "metadata": {},
   "outputs": [
    {
     "data": {
      "text/html": [
       "<div>\n",
       "<style scoped>\n",
       "    .dataframe tbody tr th:only-of-type {\n",
       "        vertical-align: middle;\n",
       "    }\n",
       "\n",
       "    .dataframe tbody tr th {\n",
       "        vertical-align: top;\n",
       "    }\n",
       "\n",
       "    .dataframe thead th {\n",
       "        text-align: right;\n",
       "    }\n",
       "</style>\n",
       "<table border=\"1\" class=\"dataframe\">\n",
       "  <thead>\n",
       "    <tr style=\"text-align: right;\">\n",
       "      <th></th>\n",
       "      <th>id</th>\n",
       "      <th>name</th>\n",
       "      <th>host_id</th>\n",
       "      <th>host_name</th>\n",
       "      <th>neighbourhood_group</th>\n",
       "      <th>neighbourhood</th>\n",
       "      <th>latitude</th>\n",
       "      <th>longitude</th>\n",
       "      <th>room_type</th>\n",
       "      <th>price</th>\n",
       "      <th>minimum_nights</th>\n",
       "      <th>number_of_reviews</th>\n",
       "      <th>last_review</th>\n",
       "      <th>reviews_per_month</th>\n",
       "      <th>calculated_host_listings_count</th>\n",
       "      <th>availability_365</th>\n",
       "    </tr>\n",
       "  </thead>\n",
       "  <tbody>\n",
       "    <tr>\n",
       "      <th>85</th>\n",
       "      <td>19601</td>\n",
       "      <td>perfect for a family or small group</td>\n",
       "      <td>74303</td>\n",
       "      <td>Maggie</td>\n",
       "      <td>Brooklyn</td>\n",
       "      <td>Brooklyn Heights</td>\n",
       "      <td>40.69723</td>\n",
       "      <td>-73.99268</td>\n",
       "      <td>Entire home/apt</td>\n",
       "      <td>800</td>\n",
       "      <td>1</td>\n",
       "      <td>25</td>\n",
       "      <td>2016-08-04</td>\n",
       "      <td>0.24</td>\n",
       "      <td>1</td>\n",
       "      <td>7</td>\n",
       "    </tr>\n",
       "    <tr>\n",
       "      <th>496</th>\n",
       "      <td>174966</td>\n",
       "      <td>Luxury 2Bed/2.5Bath Central Park View</td>\n",
       "      <td>836168</td>\n",
       "      <td>Henry</td>\n",
       "      <td>Manhattan</td>\n",
       "      <td>Upper West Side</td>\n",
       "      <td>40.77350</td>\n",
       "      <td>-73.98697</td>\n",
       "      <td>Entire home/apt</td>\n",
       "      <td>2000</td>\n",
       "      <td>30</td>\n",
       "      <td>30</td>\n",
       "      <td>2018-05-05</td>\n",
       "      <td>0.33</td>\n",
       "      <td>11</td>\n",
       "      <td>0</td>\n",
       "    </tr>\n",
       "    <tr>\n",
       "      <th>662</th>\n",
       "      <td>250801</td>\n",
       "      <td>Heart &amp; Soul of Greenwich Village</td>\n",
       "      <td>1314834</td>\n",
       "      <td>Rhona</td>\n",
       "      <td>Manhattan</td>\n",
       "      <td>Greenwich Village</td>\n",
       "      <td>40.73129</td>\n",
       "      <td>-73.99944</td>\n",
       "      <td>Entire home/apt</td>\n",
       "      <td>850</td>\n",
       "      <td>3</td>\n",
       "      <td>107</td>\n",
       "      <td>2019-05-23</td>\n",
       "      <td>1.15</td>\n",
       "      <td>1</td>\n",
       "      <td>249</td>\n",
       "    </tr>\n",
       "    <tr>\n",
       "      <th>762</th>\n",
       "      <td>273190</td>\n",
       "      <td>6 Bedroom Landmark West Village Townhouse</td>\n",
       "      <td>605463</td>\n",
       "      <td>West Village</td>\n",
       "      <td>Manhattan</td>\n",
       "      <td>West Village</td>\n",
       "      <td>40.73301</td>\n",
       "      <td>-74.00268</td>\n",
       "      <td>Entire home/apt</td>\n",
       "      <td>1300</td>\n",
       "      <td>5</td>\n",
       "      <td>28</td>\n",
       "      <td>2018-09-25</td>\n",
       "      <td>0.31</td>\n",
       "      <td>4</td>\n",
       "      <td>297</td>\n",
       "    </tr>\n",
       "    <tr>\n",
       "      <th>780</th>\n",
       "      <td>279857</td>\n",
       "      <td>#1 Yellow Block BnB/see at Net Flix Show Stay ...</td>\n",
       "      <td>1420300</td>\n",
       "      <td>Gordy</td>\n",
       "      <td>Brooklyn</td>\n",
       "      <td>Bedford-Stuyvesant</td>\n",
       "      <td>40.68492</td>\n",
       "      <td>-73.95489</td>\n",
       "      <td>Entire home/apt</td>\n",
       "      <td>800</td>\n",
       "      <td>4</td>\n",
       "      <td>122</td>\n",
       "      <td>2019-07-02</td>\n",
       "      <td>1.37</td>\n",
       "      <td>1</td>\n",
       "      <td>257</td>\n",
       "    </tr>\n",
       "    <tr>\n",
       "      <th>...</th>\n",
       "      <td>...</td>\n",
       "      <td>...</td>\n",
       "      <td>...</td>\n",
       "      <td>...</td>\n",
       "      <td>...</td>\n",
       "      <td>...</td>\n",
       "      <td>...</td>\n",
       "      <td>...</td>\n",
       "      <td>...</td>\n",
       "      <td>...</td>\n",
       "      <td>...</td>\n",
       "      <td>...</td>\n",
       "      <td>...</td>\n",
       "      <td>...</td>\n",
       "      <td>...</td>\n",
       "      <td>...</td>\n",
       "    </tr>\n",
       "    <tr>\n",
       "      <th>48305</th>\n",
       "      <td>36189257</td>\n",
       "      <td>2BR Near Museum Mile! Upper East Side!</td>\n",
       "      <td>272166348</td>\n",
       "      <td>Mary Rotsen</td>\n",
       "      <td>Manhattan</td>\n",
       "      <td>Upper East Side</td>\n",
       "      <td>40.78132</td>\n",
       "      <td>-73.95262</td>\n",
       "      <td>Entire home/apt</td>\n",
       "      <td>1999</td>\n",
       "      <td>30</td>\n",
       "      <td>0</td>\n",
       "      <td>no_ review</td>\n",
       "      <td>0.72</td>\n",
       "      <td>1</td>\n",
       "      <td>270</td>\n",
       "    </tr>\n",
       "    <tr>\n",
       "      <th>48486</th>\n",
       "      <td>36280646</td>\n",
       "      <td>Cable and wfi, L/G included.</td>\n",
       "      <td>272872092</td>\n",
       "      <td>Chris</td>\n",
       "      <td>Queens</td>\n",
       "      <td>Forest Hills</td>\n",
       "      <td>40.73657</td>\n",
       "      <td>-73.85088</td>\n",
       "      <td>Entire home/apt</td>\n",
       "      <td>16</td>\n",
       "      <td>9</td>\n",
       "      <td>1</td>\n",
       "      <td>2019-07-07</td>\n",
       "      <td>1.00</td>\n",
       "      <td>1</td>\n",
       "      <td>322</td>\n",
       "    </tr>\n",
       "    <tr>\n",
       "      <th>48523</th>\n",
       "      <td>36308562</td>\n",
       "      <td>Tasteful &amp; Trendy Brooklyn Brownstone, near Train</td>\n",
       "      <td>217732163</td>\n",
       "      <td>Sandy</td>\n",
       "      <td>Brooklyn</td>\n",
       "      <td>Bedford-Stuyvesant</td>\n",
       "      <td>40.68767</td>\n",
       "      <td>-73.95805</td>\n",
       "      <td>Entire home/apt</td>\n",
       "      <td>1369</td>\n",
       "      <td>1</td>\n",
       "      <td>0</td>\n",
       "      <td>no_ review</td>\n",
       "      <td>0.72</td>\n",
       "      <td>1</td>\n",
       "      <td>349</td>\n",
       "    </tr>\n",
       "    <tr>\n",
       "      <th>48535</th>\n",
       "      <td>36311055</td>\n",
       "      <td>Stunning &amp; Stylish Brooklyn Luxury, near Train</td>\n",
       "      <td>245712163</td>\n",
       "      <td>Urvashi</td>\n",
       "      <td>Brooklyn</td>\n",
       "      <td>Bedford-Stuyvesant</td>\n",
       "      <td>40.68245</td>\n",
       "      <td>-73.93417</td>\n",
       "      <td>Entire home/apt</td>\n",
       "      <td>1749</td>\n",
       "      <td>1</td>\n",
       "      <td>0</td>\n",
       "      <td>no_ review</td>\n",
       "      <td>0.72</td>\n",
       "      <td>1</td>\n",
       "      <td>303</td>\n",
       "    </tr>\n",
       "    <tr>\n",
       "      <th>48839</th>\n",
       "      <td>36452721</td>\n",
       "      <td>Massage Spa. Stay overnight. Authors Artist dr...</td>\n",
       "      <td>274079964</td>\n",
       "      <td>Richard</td>\n",
       "      <td>Brooklyn</td>\n",
       "      <td>Sheepshead Bay</td>\n",
       "      <td>40.59866</td>\n",
       "      <td>-73.95661</td>\n",
       "      <td>Private room</td>\n",
       "      <td>800</td>\n",
       "      <td>1</td>\n",
       "      <td>0</td>\n",
       "      <td>no_ review</td>\n",
       "      <td>0.72</td>\n",
       "      <td>1</td>\n",
       "      <td>23</td>\n",
       "    </tr>\n",
       "  </tbody>\n",
       "</table>\n",
       "<p>522 rows × 16 columns</p>\n",
       "</div>"
      ],
      "text/plain": [
       "             id                                               name    host_id  \\\n",
       "85        19601                perfect for a family or small group      74303   \n",
       "496      174966              Luxury 2Bed/2.5Bath Central Park View     836168   \n",
       "662      250801                 Heart & Soul of Greenwich Village     1314834   \n",
       "762      273190          6 Bedroom Landmark West Village Townhouse     605463   \n",
       "780      279857  #1 Yellow Block BnB/see at Net Flix Show Stay ...    1420300   \n",
       "...         ...                                                ...        ...   \n",
       "48305  36189257             2BR Near Museum Mile! Upper East Side!  272166348   \n",
       "48486  36280646                       Cable and wfi, L/G included.  272872092   \n",
       "48523  36308562  Tasteful & Trendy Brooklyn Brownstone, near Train  217732163   \n",
       "48535  36311055     Stunning & Stylish Brooklyn Luxury, near Train  245712163   \n",
       "48839  36452721  Massage Spa. Stay overnight. Authors Artist dr...  274079964   \n",
       "\n",
       "          host_name neighbourhood_group       neighbourhood  latitude  \\\n",
       "85           Maggie            Brooklyn    Brooklyn Heights  40.69723   \n",
       "496           Henry           Manhattan     Upper West Side  40.77350   \n",
       "662           Rhona           Manhattan   Greenwich Village  40.73129   \n",
       "762    West Village           Manhattan        West Village  40.73301   \n",
       "780           Gordy            Brooklyn  Bedford-Stuyvesant  40.68492   \n",
       "...             ...                 ...                 ...       ...   \n",
       "48305   Mary Rotsen           Manhattan     Upper East Side  40.78132   \n",
       "48486         Chris              Queens        Forest Hills  40.73657   \n",
       "48523         Sandy            Brooklyn  Bedford-Stuyvesant  40.68767   \n",
       "48535       Urvashi            Brooklyn  Bedford-Stuyvesant  40.68245   \n",
       "48839       Richard            Brooklyn      Sheepshead Bay  40.59866   \n",
       "\n",
       "       longitude        room_type  price  minimum_nights  number_of_reviews  \\\n",
       "85     -73.99268  Entire home/apt    800               1                 25   \n",
       "496    -73.98697  Entire home/apt   2000              30                 30   \n",
       "662    -73.99944  Entire home/apt    850               3                107   \n",
       "762    -74.00268  Entire home/apt   1300               5                 28   \n",
       "780    -73.95489  Entire home/apt    800               4                122   \n",
       "...          ...              ...    ...             ...                ...   \n",
       "48305  -73.95262  Entire home/apt   1999              30                  0   \n",
       "48486  -73.85088  Entire home/apt     16               9                  1   \n",
       "48523  -73.95805  Entire home/apt   1369               1                  0   \n",
       "48535  -73.93417  Entire home/apt   1749               1                  0   \n",
       "48839  -73.95661     Private room    800               1                  0   \n",
       "\n",
       "      last_review  reviews_per_month  calculated_host_listings_count  \\\n",
       "85     2016-08-04               0.24                               1   \n",
       "496    2018-05-05               0.33                              11   \n",
       "662    2019-05-23               1.15                               1   \n",
       "762    2018-09-25               0.31                               4   \n",
       "780    2019-07-02               1.37                               1   \n",
       "...           ...                ...                             ...   \n",
       "48305  no_ review               0.72                               1   \n",
       "48486  2019-07-07               1.00                               1   \n",
       "48523  no_ review               0.72                               1   \n",
       "48535  no_ review               0.72                               1   \n",
       "48839  no_ review               0.72                               1   \n",
       "\n",
       "       availability_365  \n",
       "85                    7  \n",
       "496                   0  \n",
       "662                 249  \n",
       "762                 297  \n",
       "780                 257  \n",
       "...                 ...  \n",
       "48305               270  \n",
       "48486               322  \n",
       "48523               349  \n",
       "48535               303  \n",
       "48839                23  \n",
       "\n",
       "[522 rows x 16 columns]"
      ]
     },
     "execution_count": 46,
     "metadata": {},
     "output_type": "execute_result"
    }
   ],
   "source": [
    "#find outliers \n",
    "df.loc[(df[\"price\"]> upper_limit) | (df[\"price\"] < lower_limit)] "
   ]
  },
  {
   "cell_type": "code",
   "execution_count": 47,
   "id": "4b59a776",
   "metadata": {},
   "outputs": [
    {
     "name": "stdout",
     "output_type": "stream",
     "text": [
      "old_data: 48895\n",
      "new_data: 48373\n",
      "outliers: 522\n"
     ]
    }
   ],
   "source": [
    "### trim to delete the outliers \n",
    "new_df = df.loc[(df[\"price\"] <= upper_limit) & (df[\"price\"] >=  lower_limit)] \n",
    "print(\"old_data:\", len(df))\n",
    "print(\"new_data:\", len(new_df))\n",
    "print('outliers:', len(df)-len(new_df))"
   ]
  },
  {
   "cell_type": "code",
   "execution_count": 48,
   "id": "718dc922",
   "metadata": {},
   "outputs": [
    {
     "data": {
      "text/plain": [
       "<Axes: >"
      ]
     },
     "execution_count": 48,
     "metadata": {},
     "output_type": "execute_result"
    },
    {
     "data": {
      "image/png": "[encoded data removed]",
      "text/plain": [
       "<Figure size 640x480 with 1 Axes>"
      ]
     },
     "metadata": {},
     "output_type": "display_data"
    }
   ],
   "source": [
    "sns.boxplot(new_df['price'])"
   ]
  },
  {
   "cell_type": "code",
   "execution_count": 49,
   "id": "aa97cdeb",
   "metadata": {},
   "outputs": [],
   "source": [
    "### capping \n",
    "new_df = df.copy()\n",
    "new_df.loc[(new_df['price']> upper_limit), 'price'] = upper_limit\n",
    "new_df.loc[(new_df['price']< lower_limit), 'price'] = lower_limit"
   ]
  },
  {
   "cell_type": "code",
   "execution_count": 50,
   "id": "09f115c8",
   "metadata": {},
   "outputs": [
    {
     "data": {
      "text/plain": [
       "<Axes: >"
      ]
     },
     "execution_count": 50,
     "metadata": {},
     "output_type": "execute_result"
    },
    {
     "data": {
      "image/png": "[encoded data removed]",
      "text/plain": [
       "<Figure size 640x480 with 1 Axes>"
      ]
     },
     "metadata": {},
     "output_type": "display_data"
    }
   ],
   "source": [
    "sns.boxplot(new_df['price'])"
   ]
  },
  {
   "cell_type": "code",
   "execution_count": 51,
   "id": "36dae52b",
   "metadata": {},
   "outputs": [
    {
     "name": "stderr",
     "output_type": "stream",
     "text": [
      "C:\\Users\\Hammed\\AppData\\Local\\Temp\\ipykernel_14308\\2265666257.py:1: UserWarning: \n",
      "\n",
      "`distplot` is a deprecated function and will be removed in seaborn v0.14.0.\n",
      "\n",
      "Please adapt your code to use either `displot` (a figure-level function with\n",
      "similar flexibility) or `histplot` (an axes-level function for histograms).\n",
      "\n",
      "For a guide to updating your code to use the new functions, please see\n",
      "https://gist.github.com/mwaskom/de44147ed2974457ad6372750bbe5751\n",
      "\n",
      "  sns.distplot(new_df['price'])\n"
     ]
    },
    {
     "data": {
      "text/plain": [
       "<Axes: xlabel='price', ylabel='Density'>"
      ]
     },
     "execution_count": 51,
     "metadata": {},
     "output_type": "execute_result"
    },
    {
     "data": {
      "image/png": "[encoded data removed]",
      "text/plain": [
       "<Figure size 640x480 with 1 Axes>"
      ]
     },
     "metadata": {},
     "output_type": "display_data"
    }
   ],
   "source": [
    "sns.distplot(new_df['price'])"
   ]
  },
  {
   "cell_type": "code",
   "execution_count": 52,
   "id": "a7ab7991",
   "metadata": {},
   "outputs": [
    {
     "name": "stderr",
     "output_type": "stream",
     "text": [
      "C:\\Users\\Hammed\\AppData\\Local\\Temp\\ipykernel_14308\\459039374.py:2: UserWarning: \n",
      "\n",
      "`distplot` is a deprecated function and will be removed in seaborn v0.14.0.\n",
      "\n",
      "Please adapt your code to use either `displot` (a figure-level function with\n",
      "similar flexibility) or `histplot` (an axes-level function for histograms).\n",
      "\n",
      "For a guide to updating your code to use the new functions, please see\n",
      "https://gist.github.com/mwaskom/de44147ed2974457ad6372750bbe5751\n",
      "\n",
      "  sns.distplot(df['price'])\n"
     ]
    },
    {
     "data": {
      "text/plain": [
       "<Axes: xlabel='price', ylabel='Density'>"
      ]
     },
     "execution_count": 52,
     "metadata": {},
     "output_type": "execute_result"
    },
    {
     "data": {
      "image/png": "[encoded data removed]",
      "text/plain": [
       "<Figure size 640x480 with 1 Axes>"
      ]
     },
     "metadata": {},
     "output_type": "display_data"
    }
   ],
   "source": [
    "## displot from previos data \n",
    "sns.distplot(df['price'])"
   ]
  },
  {
   "cell_type": "markdown",
   "id": "c31b004a",
   "metadata": {},
   "source": [
    "##### FOR MINIMUM_NIGHTS"
   ]
  },
  {
   "cell_type": "code",
   "execution_count": 54,
   "id": "0c8d63b5",
   "metadata": {},
   "outputs": [
    {
     "name": "stdout",
     "output_type": "stream",
     "text": [
      "                 id       host_id      latitude     longitude         price  \\\n",
      "count  4.889500e+04  4.889500e+04  48895.000000  48895.000000  48895.000000   \n",
      "mean   1.901714e+07  6.762001e+07     40.728949    -73.952170    152.720687   \n",
      "std    1.098311e+07  7.861097e+07      0.054530      0.046157    240.154170   \n",
      "min    2.539000e+03  2.438000e+03     40.499790    -74.244420      0.000000   \n",
      "25%    9.471945e+06  7.822033e+06     40.690100    -73.983070     69.000000   \n",
      "50%    1.967728e+07  3.079382e+07     40.723070    -73.955680    106.000000   \n",
      "75%    2.915218e+07  1.074344e+08     40.763115    -73.936275    175.000000   \n",
      "max    3.648724e+07  2.743213e+08     40.913060    -73.712990  10000.000000   \n",
      "\n",
      "       minimum_nights  number_of_reviews  reviews_per_month  \\\n",
      "count    48895.000000       48895.000000       48895.000000   \n",
      "mean         7.029962          23.274466           1.238930   \n",
      "std         20.510550          44.550582           1.520861   \n",
      "min          1.000000           0.000000           0.010000   \n",
      "25%          1.000000           1.000000           0.280000   \n",
      "50%          3.000000           5.000000           0.720000   \n",
      "75%          5.000000          24.000000           1.580000   \n",
      "max       1250.000000         629.000000          58.500000   \n",
      "\n",
      "       calculated_host_listings_count  availability_365  \n",
      "count                    48895.000000      48895.000000  \n",
      "mean                         7.143982        112.781327  \n",
      "std                         32.952519        131.622289  \n",
      "min                          1.000000          0.000000  \n",
      "25%                          1.000000          0.000000  \n",
      "50%                          1.000000         45.000000  \n",
      "75%                          2.000000        227.000000  \n",
      "max                        327.000000        365.000000  \n"
     ]
    }
   ],
   "source": [
    "df.describe()\n",
    "\n",
    "##### WE APPLY SKEW TO SEE COLUMNS WITH EXTREEME VALUES/ OUTLIERS. \n",
    "\n",
    "# Identify numerical columns\n",
    "numerical_cols = df.select_dtypes(include=['number']).columns\n",
    "\n",
    "# Display summary statistics\n",
    "print(df[numerical_cols].describe())\n"
   ]
  },
  {
   "cell_type": "code",
   "execution_count": 58,
   "id": "1b5821bf",
   "metadata": {},
   "outputs": [
    {
     "name": "stdout",
     "output_type": "stream",
     "text": [
      "id                                -0.090257\n",
      "host_id                            1.206214\n",
      "latitude                           0.237167\n",
      "longitude                          1.284210\n",
      "price                             19.118939\n",
      "minimum_nights                    21.827275\n",
      "number_of_reviews                  3.690635\n",
      "reviews_per_month                  3.603699\n",
      "calculated_host_listings_count     7.933174\n",
      "availability_365                   0.763408\n",
      "dtype: float64\n"
     ]
    }
   ],
   "source": [
    "#  skew data \n",
    "print(df[numerical_cols].skew())\n",
    "\n",
    "#how we measure skewness \n",
    "\n",
    "#Skewness = 0:  Data is perfectly symmetric (normal distribution).\n",
    "#Skewness > 0:  Data is right-skewed (long tail on the right, high-value outliers).\n",
    "#Skewness < 0:  Data is left-skewed (long tail on the left, low-value outliers).\n",
    "#Skewness > 2:  Data is highly skewed, suggesting extreme outliers.\n",
    "\n",
    "\n",
    "#In this case, host_id, id, availability_365, latitude, longitude have limited or few outliers comapred to price (23.673594),minimum_nights (27.542187), number_of_reviews (3.690635), reviews_per_month (3.300723),  calculated_host_listings_count (7.933174)\n",
    "\n",
    "\n",
    "\n",
    "\n"
   ]
  },
  {
   "cell_type": "code",
   "execution_count": 59,
   "id": "0c788bb6",
   "metadata": {},
   "outputs": [
    {
     "name": "stderr",
     "output_type": "stream",
     "text": [
      "C:\\Users\\Hammed\\AppData\\Local\\Temp\\ipykernel_14308\\2632377786.py:5: UserWarning: \n",
      "\n",
      "`distplot` is a deprecated function and will be removed in seaborn v0.14.0.\n",
      "\n",
      "Please adapt your code to use either `displot` (a figure-level function with\n",
      "similar flexibility) or `histplot` (an axes-level function for histograms).\n",
      "\n",
      "For a guide to updating your code to use the new functions, please see\n",
      "https://gist.github.com/mwaskom/de44147ed2974457ad6372750bbe5751\n",
      "\n",
      "  sns.distplot(df['minimum_nights'], bins=30, kde=True)\n"
     ]
    },
    {
     "data": {
      "image/png": "[encoded data removed]",
      "text/plain": [
       "<Figure size 640x480 with 1 Axes>"
      ]
     },
     "metadata": {},
     "output_type": "display_data"
    }
   ],
   "source": [
    "##### OUTLIER DETECTION AND REMOVAL FOR PRICE COLUMN\n",
    "\n",
    "import seaborn as sns\n",
    "import matplotlib.pyplot as plt\n",
    "sns.distplot(df['minimum_nights'], bins=30, kde=True)\n",
    "plt.show()\n"
   ]
  },
  {
   "cell_type": "code",
   "execution_count": 60,
   "id": "28963c82",
   "metadata": {},
   "outputs": [
    {
     "data": {
      "text/plain": [
       "<Axes: >"
      ]
     },
     "execution_count": 60,
     "metadata": {},
     "output_type": "execute_result"
    },
    {
     "data": {
      "image/png": "[encoded data removed]",
      "text/plain": [
       "<Figure size 640x480 with 1 Axes>"
      ]
     },
     "metadata": {},
     "output_type": "display_data"
    }
   ],
   "source": [
    "# view outlier clearly\n",
    "sns.boxplot(df[\"minimum_nights\"])\n",
    "\n",
    "# we will try different method to remove outliers tosee the one that best fit the column. some of which are \n",
    "# z-score, \n"
   ]
  },
  {
   "cell_type": "code",
   "execution_count": null,
   "id": "ca00429d",
   "metadata": {},
   "outputs": [],
   "source": []
  },
  {
   "cell_type": "code",
   "execution_count": null,
   "id": "fb0e390f",
   "metadata": {},
   "outputs": [],
   "source": []
  },
  {
   "cell_type": "code",
   "execution_count": null,
   "id": "31ea41eb",
   "metadata": {},
   "outputs": [],
   "source": []
  },
  {
   "cell_type": "code",
   "execution_count": null,
   "id": "2f45110c",
   "metadata": {},
   "outputs": [],
   "source": []
  },
  {
   "cell_type": "code",
   "execution_count": null,
   "id": "e644d184",
   "metadata": {},
   "outputs": [],
   "source": [
    "#### Z-SCORE METHOD\n",
    "\n",
    "# Defining outlier threshold, while computing the mean and standard deviation.  \n",
    "\n",
    "# find the limits. \n",
    "upper_limit = df_1[\"minimum_nights\"]. mean() + 3*df_1[\"minimum_nights\"].std()\n",
    "lower_limit = df_1[\"minimum_nights\"]. mean() -3*df_1[\"minimum_nights\"].std()\n",
    "print(upper_limit, lower_limit)"
   ]
  },
  {
   "cell_type": "code",
   "execution_count": null,
   "id": "7d53ac5f",
   "metadata": {},
   "outputs": [],
   "source": [
    "# finding outliers values for price:\n",
    "\n",
    "df_1.loc[(df_1[\"minimum_nights\"]> upper_limit) | (df_1[\"minimum_nights\"] < lower_limit)] \n",
    "\n",
    "new_df = df_1.loc[(df_1[\"minimum_nights\"] <= upper_limit) & (df_1[\"minimum_nights\"] >=  lower_limit)] \n",
    "print(\"old_data:\", len(df_1))\n",
    "print(\"new_data:\", len(new_df))\n",
    "print('outliers:', len(df_1)-len(new_df))"
   ]
  },
  {
   "cell_type": "code",
   "execution_count": null,
   "id": "f9b5ea2b",
   "metadata": {},
   "outputs": [],
   "source": [
    "sns.boxplot(new_df['minimum_nights'])"
   ]
  },
  {
   "cell_type": "code",
   "execution_count": null,
   "id": "b8f312a0",
   "metadata": {},
   "outputs": [],
   "source": [
    "###### CAPPING METHOD - changing outlier values to upper or lower limit values. \n",
    "\n",
    "new_df = df_1.copy()\n",
    "new_df.loc[(new_df['minimum_nights']> upper_limit), 'minimum_nights'] = upper_limit\n",
    "new_df.loc[(new_df['minimum_nights']< lower_limit), 'minimum_nights'] = lower_limit"
   ]
  },
  {
   "cell_type": "code",
   "execution_count": null,
   "id": "4bb56ce4",
   "metadata": {},
   "outputs": [],
   "source": [
    "sns.boxplot(new_df['minimum_nights'])"
   ]
  },
  {
   "cell_type": "code",
   "execution_count": null,
   "id": "47187d7f",
   "metadata": {},
   "outputs": [],
   "source": [
    "len(new_df)"
   ]
  },
  {
   "cell_type": "code",
   "execution_count": null,
   "id": "cef6ebd4",
   "metadata": {},
   "outputs": [],
   "source": [
    "##### 2,  INTERQUARTILE RANGE METHOD (IQR)\n",
    "\n",
    "q1 = df_1['minimum_nights']. quantile(0.25)\n",
    "q3 = df_1['minimum_nights']. quantile(0.75)\n",
    "iqr = q3 - q1\n",
    "\n",
    "print('q1:', q1, 'q3:', q3, iqr)"
   ]
  },
  {
   "cell_type": "code",
   "execution_count": null,
   "id": "c2c79a15",
   "metadata": {},
   "outputs": [],
   "source": [
    "upper_limit = q3 +(1.5* iqr)\n",
    "lower_limit = q1 -(1.5* iqr)\n",
    "lower_limit, upper_limit"
   ]
  },
  {
   "cell_type": "code",
   "execution_count": null,
   "id": "6c2b3db4",
   "metadata": {},
   "outputs": [],
   "source": [
    "sns.boxplot(df_1['minimum_nights'])"
   ]
  },
  {
   "cell_type": "code",
   "execution_count": null,
   "id": "3e52d07a",
   "metadata": {},
   "outputs": [],
   "source": [
    "# Find outliers \n",
    "df_1.loc[(df_1[\"minimum_nights\"]> upper_limit) | (df_1[\"minimum_nights\"] < lower_limit)]"
   ]
  },
  {
   "cell_type": "code",
   "execution_count": null,
   "id": "b7ac273f",
   "metadata": {},
   "outputs": [],
   "source": [
    "### trim the data\n",
    "new_df = df_1.loc[(df_1[\"minimum_nights\"] <= upper_limit) & (df_1[\"minimum_nights\"] >=  lower_limit)] \n",
    "print(\"old_data:\", len(df_1))\n",
    "print(\"new_data:\", len(new_df))\n",
    "print('outliers:', len(df_1)-len(new_df))"
   ]
  },
  {
   "cell_type": "code",
   "execution_count": null,
   "id": "ca7b3e85",
   "metadata": {},
   "outputs": [],
   "source": [
    "sns.boxplot(new_df['minimum_nights'])"
   ]
  },
  {
   "cell_type": "code",
   "execution_count": null,
   "id": "11f22ba0",
   "metadata": {},
   "outputs": [],
   "source": [
    "### capping \n",
    "new_df = df_1.copy()\n",
    "new_df.loc[(new_df['minimum_nights']> upper_limit), 'minimum_nights'] = upper_limit\n",
    "new_df.loc[(new_df['minimum_nights']< lower_limit), 'minimum_nights'] = lower_limit"
   ]
  },
  {
   "cell_type": "code",
   "execution_count": null,
   "id": "d8f66602",
   "metadata": {},
   "outputs": [],
   "source": [
    "sns.boxplot(new_df['minimum_nights'])"
   ]
  },
  {
   "cell_type": "code",
   "execution_count": null,
   "id": "d8fdac6d",
   "metadata": {},
   "outputs": [],
   "source": [
    "###### 3. PERCENTILE METHOD\n",
    "\n",
    "\n",
    "upper_limit = df_1['minimum_nights'].quantile(0.99)\n",
    "lower_limit = df_1['minimum_nights'].quantile(0.001)\n",
    "lower_limit, upper_limit"
   ]
  },
  {
   "cell_type": "code",
   "execution_count": null,
   "id": "5e5f3135",
   "metadata": {},
   "outputs": [],
   "source": [
    "sns.boxplot(df_1['minimum_nights'])"
   ]
  },
  {
   "cell_type": "code",
   "execution_count": null,
   "id": "bfed32fe",
   "metadata": {},
   "outputs": [],
   "source": [
    "#find outliers \n",
    "df_1.loc[(df_1[\"minimum_nights\"]> upper_limit) | (df_1[\"minimum_nights\"] < lower_limit)] "
   ]
  },
  {
   "cell_type": "code",
   "execution_count": null,
   "id": "dfebd104",
   "metadata": {},
   "outputs": [],
   "source": [
    "### trim to delete the outliers \n",
    "new_df = df_1.loc[(df_1[\"minimum_nights\"] <= upper_limit) & (df_1[\"minimum_nights\"] >=  lower_limit)] \n",
    "print(\"old_data:\", len(df_1))\n",
    "print(\"new_data:\", len(new_df))\n",
    "print('outliers:', len(df_1)-len(new_df))"
   ]
  },
  {
   "cell_type": "code",
   "execution_count": null,
   "id": "6a87f3f7",
   "metadata": {},
   "outputs": [],
   "source": [
    "sns.boxplot(new_df['minimum_nights'])"
   ]
  },
  {
   "cell_type": "code",
   "execution_count": null,
   "id": "16580616",
   "metadata": {},
   "outputs": [],
   "source": [
    "### capping \n",
    "new_df = df_1.copy()\n",
    "new_df.loc[(new_df['minimum_nights']> upper_limit), 'minimum_nights'] = upper_limit\n",
    "new_df.loc[(new_df['minimum_nights']< lower_limit), 'minimum_nights'] = lower_limit\n"
   ]
  },
  {
   "cell_type": "code",
   "execution_count": null,
   "id": "f190df3a",
   "metadata": {},
   "outputs": [],
   "source": [
    "sns.boxplot(new_df['minimum_nights'])"
   ]
  },
  {
   "cell_type": "code",
   "execution_count": null,
   "id": "7132e16c",
   "metadata": {},
   "outputs": [],
   "source": [
    "sns.distplot(new_df['minimum_nights'])"
   ]
  },
  {
   "cell_type": "code",
   "execution_count": null,
   "id": "e313f4ae",
   "metadata": {},
   "outputs": [],
   "source": [
    "## displot from previos data \n",
    "sns.distplot(df_1['minimum_nights'])"
   ]
  },
  {
   "cell_type": "code",
   "execution_count": null,
   "id": "11395766",
   "metadata": {},
   "outputs": [],
   "source": []
  },
  {
   "cell_type": "code",
   "execution_count": null,
   "id": "412a6f95",
   "metadata": {},
   "outputs": [],
   "source": []
  },
  {
   "cell_type": "markdown",
   "id": "66f72958",
   "metadata": {},
   "source": [
    "#### Z-SCORE METHOD new method "
   ]
  },
  {
   "cell_type": "code",
   "execution_count": null,
   "id": "ce40b413",
   "metadata": {},
   "outputs": [],
   "source": [
    "import pandas as pd\n",
    "from scipy.stats import zscore\n",
    "\n",
    "# Function to remove outliers using Z-score\n",
    "def remove_outliers_zscore(df, columns, threshold=3):\n",
    "    for col in columns:\n",
    "        df[col + '_zscore'] = zscore(df[col])\n",
    "        df = df[df[col + '_zscore'].abs() <= threshold]\n",
    "        df.drop(columns=[col + '_zscore'], inplace=True)  # Drop the Z-score column after filtering\n",
    "    return df\n",
    "\n",
    "# Assuming df is the DataFrame containing your data\n",
    "skewed_columns = ['price', 'minimum_nights', 'number_of_reviews', \n",
    "                  'reviews_per_month', 'calculated_host_listings_count']\n",
    "\n",
    "# Remove outliers using Z-score method\n",
    "df_cleaned_zscore = remove_outliers_zscore(df, skewed_columns)\n",
    "\n",
    "# Final cleaned dataframe after Z-score removal\n",
    "print(df_cleaned_zscore)\n"
   ]
  },
  {
   "cell_type": "code",
   "execution_count": null,
   "id": "66c8da16",
   "metadata": {},
   "outputs": [],
   "source": [
    "df_cleaned_zscore.head()"
   ]
  },
  {
   "cell_type": "code",
   "execution_count": null,
   "id": "b4288f46",
   "metadata": {},
   "outputs": [],
   "source": [
    "# Check for skewness after removing outliers using Z-score method\n",
    "skewness_after_zscore = df_cleaned_zscore[skewed_columns].skew()\n",
    "\n",
    "# Print the skewness of the columns\n",
    "print(skewness_after_zscore)\n"
   ]
  },
  {
   "cell_type": "code",
   "execution_count": null,
   "id": "149eb91f",
   "metadata": {},
   "outputs": [],
   "source": [
    "import seaborn as sns\n",
    "import matplotlib.pyplot as plt\n",
    "\n",
    "# List of numerical columns (ensure these are the columns you're analyzing)\n",
    "numerical_cols = ['price', 'minimum_nights', 'number_of_reviews', \n",
    "                  'reviews_per_month', 'calculated_host_listings_count']\n",
    "\n",
    "# Create boxplots for each numerical column in the cleaned dataframe (df_cleaned_zscore)\n",
    "plt.figure(figsize=(12, 8))  # Set the figure size\n",
    "for i, col in enumerate(numerical_cols, 1):\n",
    "    plt.subplot(2, 3, i)  # Create a grid of subplots (2 rows, 3 columns)\n",
    "    sns.boxplot(data=df_cleaned_zscore, x=col)  # Plot the boxplot\n",
    "    plt.title(f'Boxplot of {col}')  # Title for each subplot\n",
    "\n",
    "plt.tight_layout()  # Adjust the layout to prevent overlap\n",
    "plt.show()\n"
   ]
  },
  {
   "cell_type": "code",
   "execution_count": null,
   "id": "67fd4db8",
   "metadata": {},
   "outputs": [],
   "source": []
  },
  {
   "cell_type": "code",
   "execution_count": null,
   "id": "b65b675f",
   "metadata": {},
   "outputs": [],
   "source": [
    "### BEGINING OF GOOD ONE IQR METHOD "
   ]
  },
  {
   "cell_type": "code",
   "execution_count": null,
   "id": "5175bb58",
   "metadata": {},
   "outputs": [],
   "source": [
    "import pandas as pd\n",
    "\n",
    "# Function to cap (trim) outliers using IQR\n",
    "def cap_outliers_iqr(df, columns):\n",
    "    for col in columns:\n",
    "        Q1 = df[col].quantile(0.25)\n",
    "        Q3 = df[col].quantile(0.75)\n",
    "        IQR = Q3 - Q1\n",
    "        lower_bound = Q1 - 1.5 * IQR\n",
    "        upper_bound = Q3 + 1.5 * IQR\n",
    "        \n",
    "        # Cap values outside the IQR range\n",
    "        df[col] = df[col].clip(lower=lower_bound, upper=upper_bound)\n",
    "    \n",
    "    return df\n",
    "\n",
    "# Assuming df is the DataFrame containing your data\n",
    "skewed_columns = ['price', 'minimum_nights', 'number_of_reviews', \n",
    "                  'reviews_per_month', 'calculated_host_listings_count']\n",
    "\n",
    "# Cap outliers using the IQR method\n",
    "df_capped = cap_outliers_iqr(df, skewed_columns)\n",
    "\n",
    "# Final dataframe after capping the outliers\n",
    "print(df_capped)\n"
   ]
  },
  {
   "cell_type": "code",
   "execution_count": null,
   "id": "dec1e5ef",
   "metadata": {},
   "outputs": [],
   "source": [
    "import seaborn as sns\n",
    "import matplotlib.pyplot as plt\n",
    "\n",
    "# List of numerical columns (ensure these are the columns you're analyzing)\n",
    "numerical_cols = ['price', 'minimum_nights', 'number_of_reviews', \n",
    "                  'reviews_per_month', 'calculated_host_listings_count']\n",
    "\n",
    "# Create boxplots for each numerical column\n",
    "plt.figure(figsize=(12, 8))  # Set the figure size\n",
    "for i, col in enumerate(numerical_cols, 1):\n",
    "    plt.subplot(2, 3, i)  # Create a grid of subplots (2 rows, 3 columns)\n",
    "    sns.boxplot(data=df, x=col)  # Plot the boxplot\n",
    "    plt.title(f'Boxplot of {col}')  # Title for each subplot\n",
    "\n",
    "plt.tight_layout()  # Adjust the layout to prevent overlap\n",
    "plt.show()\n"
   ]
  },
  {
   "cell_type": "code",
   "execution_count": null,
   "id": "4ef78a9b",
   "metadata": {},
   "outputs": [],
   "source": [
    "print(df[numerical_cols].skew())"
   ]
  },
  {
   "cell_type": "code",
   "execution_count": null,
   "id": "c66ea4e5",
   "metadata": {},
   "outputs": [],
   "source": [
    "df_capped.head()"
   ]
  },
  {
   "cell_type": "code",
   "execution_count": null,
   "id": "0a127086",
   "metadata": {},
   "outputs": [],
   "source": [
    "df.head()"
   ]
  },
  {
   "cell_type": "code",
   "execution_count": null,
   "id": "342cd97b",
   "metadata": {},
   "outputs": [],
   "source": [
    "df_capped.info()"
   ]
  },
  {
   "cell_type": "code",
   "execution_count": null,
   "id": "21cb9f6d",
   "metadata": {},
   "outputs": [],
   "source": [
    "df.describe()"
   ]
  },
  {
   "cell_type": "code",
   "execution_count": null,
   "id": "0baf0f5f",
   "metadata": {},
   "outputs": [],
   "source": [
    "df_capped.describe()"
   ]
  },
  {
   "cell_type": "code",
   "execution_count": null,
   "id": "cf0e8ed3",
   "metadata": {},
   "outputs": [],
   "source": [
    "#####ENDING OF GOOD ONE "
   ]
  },
  {
   "cell_type": "code",
   "execution_count": null,
   "id": "54aee63b",
   "metadata": {},
   "outputs": [],
   "source": []
  },
  {
   "cell_type": "code",
   "execution_count": null,
   "id": "75aac220",
   "metadata": {},
   "outputs": [],
   "source": []
  },
  {
   "cell_type": "code",
   "execution_count": null,
   "id": "86a1d686",
   "metadata": {},
   "outputs": [],
   "source": []
  },
  {
   "cell_type": "code",
   "execution_count": null,
   "id": "cb5f157b",
   "metadata": {},
   "outputs": [],
   "source": []
  },
  {
   "cell_type": "code",
   "execution_count": null,
   "id": "ec80f1a9",
   "metadata": {},
   "outputs": [],
   "source": []
  },
  {
   "cell_type": "code",
   "execution_count": null,
   "id": "c5549ee0",
   "metadata": {},
   "outputs": [],
   "source": []
  },
  {
   "cell_type": "code",
   "execution_count": null,
   "id": "3cf7a3c2",
   "metadata": {},
   "outputs": [],
   "source": []
  },
  {
   "cell_type": "code",
   "execution_count": null,
   "id": "8d5e2bbe",
   "metadata": {},
   "outputs": [],
   "source": []
  },
  {
   "cell_type": "code",
   "execution_count": null,
   "id": "f30aaee8",
   "metadata": {},
   "outputs": [],
   "source": []
  },
  {
   "cell_type": "code",
   "execution_count": null,
   "id": "53996c47",
   "metadata": {},
   "outputs": [],
   "source": []
  },
  {
   "cell_type": "markdown",
   "id": "c508f166",
   "metadata": {},
   "source": []
  },
  {
   "cell_type": "markdown",
   "id": "676aa161",
   "metadata": {},
   "source": [
    "import matplotlib.pyplot as plt\n",
    "import seaborn as sns\n",
    "\n",
    "# Select all numerical columns\n",
    "numerical_cols = df.select_dtypes(include=['number']).columns\n",
    "\n",
    "# Set up figure size\n",
    "plt.figure(figsize=(15, 8))\n",
    "\n",
    "# Create boxplots for each numerical column\n",
    "df[numerical_cols].boxplot(rot=90)  # Rotate labels for better visibility\n",
    "plt.title(\"Boxplot of All Numerical Columns (Before Outlier Removal)\")\n",
    "plt.show()\n"
   ]
  },
  {
   "cell_type": "markdown",
   "id": "b84412f7",
   "metadata": {},
   "source": [
    "# Remove outliers using IQR Method. "
   ]
  },
  {
   "cell_type": "markdown",
   "id": "149c482f",
   "metadata": {},
   "source": [
    "def remove_outliers_iqr(df, columns):\n",
    "    for col in columns:\n",
    "        Q1 = df[col].quantile(0.25)  # 25th percentile\n",
    "        Q3 = df[col].quantile(0.75)  # 75th percentile\n",
    "        IQR = Q3 - Q1\n",
    "        lower_bound = Q1 - 1.5 * IQR\n",
    "        upper_bound = Q3 + 1.5 * IQR\n",
    "\n",
    "        # Remove outliers\n",
    "        df = df[(df[col] >= lower_bound) & (df[col] <= upper_bound)]\n",
    "    \n",
    "    return df\n",
    "\n",
    "# Apply outlier removal to all numerical columns\n",
    "df_cleaned = remove_outliers_iqr(df, numerical_cols)\n",
    "\n",
    "# Display shape before and after outlier removal\n",
    "print(f\"Original dataset shape: {df.shape}\")\n",
    "print(f\"Cleaned dataset shape: {df_cleaned.shape}\")\n"
   ]
  },
  {
   "cell_type": "markdown",
   "id": "ef3645eb",
   "metadata": {},
   "source": [
    " The dataset has been reduced from 48895 to 22888. "
   ]
  },
  {
   "cell_type": "markdown",
   "id": "6604a987",
   "metadata": {},
   "source": [
    "plt.figure(figsize=(15, 8))\n",
    "df_cleaned[numerical_cols].boxplot(rot=90)\n",
    "plt.title(\"Boxplot of All Numerical Columns (After Outlier Removal)\")\n",
    "plt.show()\n"
   ]
  },
  {
   "cell_type": "markdown",
   "id": "b385d5c5",
   "metadata": {},
   "source": [
    "df_cleaned.info()"
   ]
  },
  {
   "cell_type": "markdown",
   "id": "5138daf3",
   "metadata": {},
   "source": [
    "df_cleaned.head()"
   ]
  },
  {
   "cell_type": "markdown",
   "id": "78a0ebb2",
   "metadata": {},
   "source": [
    "df_cleaned.isnull().sum()"
   ]
  },
  {
   "cell_type": "markdown",
   "id": "33a67456",
   "metadata": {},
   "source": [
    "\n"
   ]
  },
  {
   "cell_type": "markdown",
   "id": "5a860835",
   "metadata": {},
   "source": [
    "df_cleaned.info()"
   ]
  },
  {
   "cell_type": "markdown",
   "id": "f22e1c0c",
   "metadata": {},
   "source": [
    "df_cleaned. describe()"
   ]
  },
  {
   "cell_type": "markdown",
   "id": "f6289dbd",
   "metadata": {},
   "source": []
  },
  {
   "cell_type": "markdown",
   "id": "28baa927",
   "metadata": {},
   "source": []
  },
  {
   "cell_type": "markdown",
   "id": "fb61a8bc",
   "metadata": {},
   "source": [
    "# Calculate IQR for 'price'\n",
    "Q1_price = df_cleaned['price'].quantile(0.25)\n",
    "Q3_price = df_cleaned['price'].quantile(0.75)\n",
    "IQR_price = Q3_price - Q1_price\n",
    "\n",
    "lower_bound_price = Q1_price - 1.5 * IQR_price\n",
    "upper_bound_price = Q3_price + 1.5 * IQR_price\n",
    "\n",
    "# Identify outliers in 'price'\n",
    "outliers_price = df_cleaned[(df_cleaned['price'] < lower_bound_price) | (df_cleaned['price'] > upper_bound_price)]\n",
    "\n",
    "len(outliers_price)\n"
   ]
  },
  {
   "cell_type": "markdown",
   "id": "1f3d237b",
   "metadata": {},
   "source": [
    "# Calculate IQR for 'minimum_nights'\n",
    "Q1_nights = df_cleaned['minimum_nights'].quantile(0.25)\n",
    "Q3_nights = df_cleaned['minimum_nights'].quantile(0.75)\n",
    "IQR_nights = Q3_nights - Q1_nights\n",
    "\n",
    "lower_bound_nights = Q1_nights - 1.5 * IQR_nights\n",
    "upper_bound_nights = Q3_nights + 1.5 * IQR_nights\n",
    "\n",
    "# Identify outliers in 'minimum_nights'\n",
    "outliers_nights = df_cleaned[\n",
    "    (df_cleaned['minimum_nights'] < lower_bound_nights) | \n",
    "    (df_cleaned['minimum_nights'] > upper_bound_nights)\n",
    "]\n",
    "\n",
    "# Number of outliers detected\n",
    "num_outliers_nights = len(outliers_nights)\n",
    "\n",
    "print(f\"Number of outliers in 'minimum_nights': {num_outliers_nights}\")\n"
   ]
  },
  {
   "cell_type": "markdown",
   "id": "c462f085",
   "metadata": {},
   "source": [
    "Summary of Outliers Detected Using IQR Method\n",
    "Price (price)\n",
    "25th Percentile (Q1): $69\n",
    "75th Percentile (Q3): $175\n",
    "Interquartile Range (IQR): $106\n",
    "Lower Bound: -$90 (not meaningful since prices can't be negative)\n",
    "Upper Bound: $334\n",
    "Minimum Price: $0\n",
    "Maximum Price: $10,000\n",
    "Outliers Count: 2,972 (values above $334 are flagged as outliers)\n",
    "Minimum Nights (minimum_nights)\n",
    "25th Percentile (Q1): 1 night\n",
    "75th Percentile (Q3): 5 nights\n",
    "Interquartile Range (IQR): 4 nights\n",
    "Lower Bound: -5 (not meaningful)\n",
    "Upper Bound: 11\n",
    "Minimum Nights: 1\n",
    "Maximum Nights: 1,250 (extreme outlier)\n",
    "Outliers Count: 6,607 (values above 11 nights are flagged as outliers)\n"
   ]
  },
  {
   "cell_type": "markdown",
   "id": "1ee1ceeb",
   "metadata": {},
   "source": [
    "from scipy import stats\n",
    "from sklearn.ensemble import IsolationForest\n",
    "\n",
    "# --- Z-SCORE METHOD ---\n",
    "z_scores_price = stats.zscore(df_cleaned['price'])\n",
    "z_scores_nights = stats.zscore(df_cleaned['minimum_nights'])\n",
    "\n",
    "# Define threshold (common choice: |Z| > 3)\n",
    "z_threshold = 3\n",
    "outliers_price_z = df_cleaned[abs(z_scores_price) > z_threshold]\n",
    "outliers_nights_z = df_cleaned[abs(z_scores_nights) > z_threshold]\n",
    "\n",
    "# --- ISOLATION FOREST METHOD ---\n",
    "iso = IsolationForest(contamination=0.05, random_state=42)  # Assuming 5% contamination\n",
    "df_cleaned['outlier_price_iso'] = iso.fit_predict(df_cleaned[['price']])\n",
    "df_cleaned['outlier_nights_iso'] = iso.fit_predict(df_cleaned[['minimum_nights']])\n",
    "\n",
    "outliers_price_iso = df_cleaned[df_cleaned['outlier_price_iso'] == -1]\n",
    "outliers_nights_iso = df_cleaned[df_cleaned['outlier_nights_iso'] == -1]\n",
    "\n",
    "# Outlier counts\n",
    "outlier_counts = {\n",
    "    \"IQR (price)\": len(outliers_price),\n",
    "    \"Z-score (price)\": len(outliers_price_z),\n",
    "    \"Isolation Forest (price)\": len(outliers_price_iso),\n",
    "    \"IQR (nights)\": len(outliers_nights),\n",
    "    \"Z-score (nights)\": len(outliers_nights_z),\n",
    "    \"Isolation Forest (nights)\": len(outliers_nights_iso),\n",
    "}\n",
    "\n",
    "print(outlier_counts)\n"
   ]
  },
  {
   "cell_type": "markdown",
   "id": "0bc7490c",
   "metadata": {},
   "source": [
    "Q1 = df['price'].quantile(0.25)\n",
    "Q3 = df['price'].quantile(0.75)\n",
    "IQR = Q3 - Q1\n",
    "lower_bound = Q1 - 1.5 * IQR\n",
    "upper_bound = Q3 + 1.5 * IQR\n",
    "\n",
    "outliers = df[(df['price'] < lower_bound) | (df['price'] > upper_bound)]\n",
    "print(f\"Number of price outliers: {len(outliers)}\")\n"
   ]
  },
  {
   "cell_type": "markdown",
   "id": "d0472e4d",
   "metadata": {},
   "source": [
    "# Check for skewness (high skewness suggests potential outliers)\n",
    "print(df_cleaned[numerical_cols].skew())"
   ]
  },
  {
   "cell_type": "markdown",
   "id": "c58741fd",
   "metadata": {},
   "source": []
  },
  {
   "cell_type": "markdown",
   "id": "a669ba6b",
   "metadata": {},
   "source": []
  },
  {
   "cell_type": "markdown",
   "id": "ef1fc920",
   "metadata": {},
   "source": []
  },
  {
   "cell_type": "markdown",
   "id": "303b84a3",
   "metadata": {},
   "source": []
  },
  {
   "cell_type": "markdown",
   "id": "994dff6a",
   "metadata": {},
   "source": []
  },
  {
   "cell_type": "markdown",
   "id": "ea0e6dbf",
   "metadata": {},
   "source": []
  },
  {
   "cell_type": "code",
   "execution_count": null,
   "id": "d1197764",
   "metadata": {},
   "outputs": [],
   "source": []
  },
  {
   "cell_type": "code",
   "execution_count": null,
   "id": "31c5c211",
   "metadata": {},
   "outputs": [],
   "source": []
  },
  {
   "cell_type": "code",
   "execution_count": null,
   "id": "6c38b98a",
   "metadata": {},
   "outputs": [],
   "source": []
  },
  {
   "cell_type": "code",
   "execution_count": null,
   "id": "25ed7e0c",
   "metadata": {},
   "outputs": [],
   "source": []
  },
  {
   "cell_type": "code",
   "execution_count": null,
   "id": "df65bb81",
   "metadata": {},
   "outputs": [],
   "source": []
  }
 ],
 "metadata": {
  "kernelspec": {
   "display_name": "Python 3 (ipykernel)",
   "language": "python",
   "name": "python3"
  },
  "language_info": {
   "codemirror_mode": {
    "name": "ipython",
    "version": 3
   },
   "file_extension": ".py",
   "mimetype": "text/x-python",
   "name": "python",
   "nbconvert_exporter": "python",
   "pygments_lexer": "ipython3",
   "version": "3.11.5"
  }
 },
 "nbformat": 4,
 "nbformat_minor": 5
}
